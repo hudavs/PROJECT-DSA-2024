{
  "cells": [
    {
      "cell_type": "markdown",
      "id": "86660c0b",
      "metadata": {
        "id": "86660c0b"
      },
      "source": [
        "# DATA UNDERSTANDING & EDA"
      ]
    },
    {
      "cell_type": "code",
      "execution_count": null,
      "id": "bbf7b663",
      "metadata": {
        "id": "bbf7b663"
      },
      "outputs": [],
      "source": [
        "#importing necessary libraries\n",
        "import numpy as np\n",
        "import pandas as pd\n",
        "import matplotlib.pyplot as plt\n",
        "import seaborn as sns"
      ]
    },
    {
      "cell_type": "markdown",
      "id": "3de02101",
      "metadata": {
        "id": "3de02101"
      },
      "source": [
        "# data uploading"
      ]
    },
    {
      "cell_type": "code",
      "execution_count": null,
      "id": "37d9c43c",
      "metadata": {
        "id": "37d9c43c",
        "outputId": "d3050ac1-4973-4fca-97b5-2dc2a74654b0"
      },
      "outputs": [
        {
          "data": {
            "text/html": [
              "<div>\n",
              "<style scoped>\n",
              "    .dataframe tbody tr th:only-of-type {\n",
              "        vertical-align: middle;\n",
              "    }\n",
              "\n",
              "    .dataframe tbody tr th {\n",
              "        vertical-align: top;\n",
              "    }\n",
              "\n",
              "    .dataframe thead th {\n",
              "        text-align: right;\n",
              "    }\n",
              "</style>\n",
              "<table border=\"1\" class=\"dataframe\">\n",
              "  <thead>\n",
              "    <tr style=\"text-align: right;\">\n",
              "      <th></th>\n",
              "      <th>Age</th>\n",
              "      <th>Attrition</th>\n",
              "      <th>BusinessTravel</th>\n",
              "      <th>DailyRate</th>\n",
              "      <th>Department</th>\n",
              "      <th>DistanceFromHome</th>\n",
              "      <th>Education</th>\n",
              "      <th>EducationField</th>\n",
              "      <th>EmployeeCount</th>\n",
              "      <th>EmployeeNumber</th>\n",
              "      <th>...</th>\n",
              "      <th>RelationshipSatisfaction</th>\n",
              "      <th>StandardHours</th>\n",
              "      <th>StockOptionLevel</th>\n",
              "      <th>TotalWorkingYears</th>\n",
              "      <th>TrainingTimesLastYear</th>\n",
              "      <th>WorkLifeBalance</th>\n",
              "      <th>YearsAtCompany</th>\n",
              "      <th>YearsInCurrentRole</th>\n",
              "      <th>YearsSinceLastPromotion</th>\n",
              "      <th>YearsWithCurrManager</th>\n",
              "    </tr>\n",
              "  </thead>\n",
              "  <tbody>\n",
              "    <tr>\n",
              "      <th>0</th>\n",
              "      <td>41</td>\n",
              "      <td>Yes</td>\n",
              "      <td>Travel_Rarely</td>\n",
              "      <td>1102</td>\n",
              "      <td>Sales</td>\n",
              "      <td>1.0</td>\n",
              "      <td>2</td>\n",
              "      <td>Life Sciences</td>\n",
              "      <td>1</td>\n",
              "      <td>1</td>\n",
              "      <td>...</td>\n",
              "      <td>1</td>\n",
              "      <td>80</td>\n",
              "      <td>0</td>\n",
              "      <td>8</td>\n",
              "      <td>0</td>\n",
              "      <td>1</td>\n",
              "      <td>6</td>\n",
              "      <td>4</td>\n",
              "      <td>0</td>\n",
              "      <td>5</td>\n",
              "    </tr>\n",
              "    <tr>\n",
              "      <th>1</th>\n",
              "      <td>49</td>\n",
              "      <td>No</td>\n",
              "      <td>Travel_Frequently</td>\n",
              "      <td>279</td>\n",
              "      <td>Research &amp; Development</td>\n",
              "      <td>8.0</td>\n",
              "      <td>1</td>\n",
              "      <td>Life Sciences</td>\n",
              "      <td>1</td>\n",
              "      <td>2</td>\n",
              "      <td>...</td>\n",
              "      <td>4</td>\n",
              "      <td>80</td>\n",
              "      <td>1</td>\n",
              "      <td>10</td>\n",
              "      <td>3</td>\n",
              "      <td>3</td>\n",
              "      <td>10</td>\n",
              "      <td>7</td>\n",
              "      <td>1</td>\n",
              "      <td>7</td>\n",
              "    </tr>\n",
              "    <tr>\n",
              "      <th>2</th>\n",
              "      <td>37</td>\n",
              "      <td>Yes</td>\n",
              "      <td>Travel_Rarely</td>\n",
              "      <td>1373</td>\n",
              "      <td>Research &amp; Development</td>\n",
              "      <td>2.0</td>\n",
              "      <td>2</td>\n",
              "      <td>Other</td>\n",
              "      <td>1</td>\n",
              "      <td>4</td>\n",
              "      <td>...</td>\n",
              "      <td>2</td>\n",
              "      <td>80</td>\n",
              "      <td>0</td>\n",
              "      <td>7</td>\n",
              "      <td>3</td>\n",
              "      <td>3</td>\n",
              "      <td>0</td>\n",
              "      <td>0</td>\n",
              "      <td>0</td>\n",
              "      <td>0</td>\n",
              "    </tr>\n",
              "    <tr>\n",
              "      <th>3</th>\n",
              "      <td>33</td>\n",
              "      <td>No</td>\n",
              "      <td>Travel_Frequently</td>\n",
              "      <td>1392</td>\n",
              "      <td>Research &amp; Development</td>\n",
              "      <td>3.0</td>\n",
              "      <td>4</td>\n",
              "      <td>Life Sciences</td>\n",
              "      <td>1</td>\n",
              "      <td>5</td>\n",
              "      <td>...</td>\n",
              "      <td>3</td>\n",
              "      <td>80</td>\n",
              "      <td>0</td>\n",
              "      <td>8</td>\n",
              "      <td>3</td>\n",
              "      <td>3</td>\n",
              "      <td>8</td>\n",
              "      <td>7</td>\n",
              "      <td>3</td>\n",
              "      <td>0</td>\n",
              "    </tr>\n",
              "    <tr>\n",
              "      <th>4</th>\n",
              "      <td>27</td>\n",
              "      <td>No</td>\n",
              "      <td>Travel_Rarely</td>\n",
              "      <td>591</td>\n",
              "      <td>Research &amp; Development</td>\n",
              "      <td>2.0</td>\n",
              "      <td>1</td>\n",
              "      <td>Medical</td>\n",
              "      <td>1</td>\n",
              "      <td>7</td>\n",
              "      <td>...</td>\n",
              "      <td>4</td>\n",
              "      <td>80</td>\n",
              "      <td>1</td>\n",
              "      <td>6</td>\n",
              "      <td>3</td>\n",
              "      <td>3</td>\n",
              "      <td>2</td>\n",
              "      <td>2</td>\n",
              "      <td>2</td>\n",
              "      <td>2</td>\n",
              "    </tr>\n",
              "  </tbody>\n",
              "</table>\n",
              "<p>5 rows × 35 columns</p>\n",
              "</div>"
            ],
            "text/plain": [
              "   Age Attrition     BusinessTravel  DailyRate              Department  \\\n",
              "0   41       Yes      Travel_Rarely       1102                   Sales   \n",
              "1   49        No  Travel_Frequently        279  Research & Development   \n",
              "2   37       Yes      Travel_Rarely       1373  Research & Development   \n",
              "3   33        No  Travel_Frequently       1392  Research & Development   \n",
              "4   27        No      Travel_Rarely        591  Research & Development   \n",
              "\n",
              "   DistanceFromHome  Education EducationField  EmployeeCount  EmployeeNumber  \\\n",
              "0               1.0          2  Life Sciences              1               1   \n",
              "1               8.0          1  Life Sciences              1               2   \n",
              "2               2.0          2          Other              1               4   \n",
              "3               3.0          4  Life Sciences              1               5   \n",
              "4               2.0          1        Medical              1               7   \n",
              "\n",
              "   ...  RelationshipSatisfaction StandardHours  StockOptionLevel  \\\n",
              "0  ...                         1            80                 0   \n",
              "1  ...                         4            80                 1   \n",
              "2  ...                         2            80                 0   \n",
              "3  ...                         3            80                 0   \n",
              "4  ...                         4            80                 1   \n",
              "\n",
              "   TotalWorkingYears  TrainingTimesLastYear WorkLifeBalance  YearsAtCompany  \\\n",
              "0                  8                      0               1               6   \n",
              "1                 10                      3               3              10   \n",
              "2                  7                      3               3               0   \n",
              "3                  8                      3               3               8   \n",
              "4                  6                      3               3               2   \n",
              "\n",
              "  YearsInCurrentRole  YearsSinceLastPromotion  YearsWithCurrManager  \n",
              "0                  4                        0                     5  \n",
              "1                  7                        1                     7  \n",
              "2                  0                        0                     0  \n",
              "3                  7                        3                     0  \n",
              "4                  2                        2                     2  \n",
              "\n",
              "[5 rows x 35 columns]"
            ]
          },
          "execution_count": 21,
          "metadata": {},
          "output_type": "execute_result"
        }
      ],
      "source": [
        "HR_data=pd.read_csv(r\"C:\\Users\\ambad\\Desktop\\PREDICTIVE WORK FORCE  AND OPTIMIZATION\\data set\\WA_Fn-UseC_-HR-Employee-Attrition.csv\")\n",
        "HR_data.head()"
      ]
    },
    {
      "cell_type": "markdown",
      "id": "d5d153a2",
      "metadata": {
        "id": "d5d153a2"
      },
      "source": [
        "# INFORMATION ABOUT DATA"
      ]
    },
    {
      "cell_type": "code",
      "execution_count": null,
      "id": "c334e06e",
      "metadata": {
        "id": "c334e06e",
        "outputId": "14d8cf8c-afc5-4a30-a133-e6e18bebde41"
      },
      "outputs": [
        {
          "name": "stdout",
          "output_type": "stream",
          "text": [
            "<class 'pandas.core.frame.DataFrame'>\n",
            "RangeIndex: 1470 entries, 0 to 1469\n",
            "Data columns (total 35 columns):\n",
            " #   Column                    Non-Null Count  Dtype  \n",
            "---  ------                    --------------  -----  \n",
            " 0   Age                       1470 non-null   int64  \n",
            " 1   Attrition                 1470 non-null   object \n",
            " 2   BusinessTravel            1460 non-null   object \n",
            " 3   DailyRate                 1470 non-null   int64  \n",
            " 4   Department                1465 non-null   object \n",
            " 5   DistanceFromHome          1466 non-null   float64\n",
            " 6   Education                 1470 non-null   int64  \n",
            " 7   EducationField            1467 non-null   object \n",
            " 8   EmployeeCount             1470 non-null   int64  \n",
            " 9   EmployeeNumber            1470 non-null   int64  \n",
            " 10  EnvironmentSatisfaction   1470 non-null   int64  \n",
            " 11  Gender                    1470 non-null   object \n",
            " 12  HourlyRate                1470 non-null   int64  \n",
            " 13  JobInvolvement            1470 non-null   int64  \n",
            " 14  JobLevel                  1470 non-null   int64  \n",
            " 15  JobRole                   1470 non-null   object \n",
            " 16  JobSatisfaction           1470 non-null   int64  \n",
            " 17  MaritalStatus             1470 non-null   object \n",
            " 18  MonthlyIncome             1470 non-null   int64  \n",
            " 19  MonthlyRate               1470 non-null   int64  \n",
            " 20  NumCompaniesWorked        1470 non-null   int64  \n",
            " 21  Over18                    1470 non-null   object \n",
            " 22  OverTime                  1470 non-null   object \n",
            " 23  PercentSalaryHike         1470 non-null   int64  \n",
            " 24  PerformanceRating         1470 non-null   int64  \n",
            " 25  RelationshipSatisfaction  1470 non-null   int64  \n",
            " 26  StandardHours             1470 non-null   int64  \n",
            " 27  StockOptionLevel          1470 non-null   int64  \n",
            " 28  TotalWorkingYears         1470 non-null   int64  \n",
            " 29  TrainingTimesLastYear     1470 non-null   int64  \n",
            " 30  WorkLifeBalance           1470 non-null   int64  \n",
            " 31  YearsAtCompany            1470 non-null   int64  \n",
            " 32  YearsInCurrentRole        1470 non-null   int64  \n",
            " 33  YearsSinceLastPromotion   1470 non-null   int64  \n",
            " 34  YearsWithCurrManager      1470 non-null   int64  \n",
            "dtypes: float64(1), int64(25), object(9)\n",
            "memory usage: 402.1+ KB\n"
          ]
        }
      ],
      "source": [
        "HR_data.info()"
      ]
    },
    {
      "cell_type": "code",
      "execution_count": null,
      "id": "3c0114ae",
      "metadata": {
        "id": "3c0114ae",
        "outputId": "bdb5c9a2-89b1-49c3-d82e-8fef87c37055"
      },
      "outputs": [
        {
          "data": {
            "text/html": [
              "<div>\n",
              "<style scoped>\n",
              "    .dataframe tbody tr th:only-of-type {\n",
              "        vertical-align: middle;\n",
              "    }\n",
              "\n",
              "    .dataframe tbody tr th {\n",
              "        vertical-align: top;\n",
              "    }\n",
              "\n",
              "    .dataframe thead th {\n",
              "        text-align: right;\n",
              "    }\n",
              "</style>\n",
              "<table border=\"1\" class=\"dataframe\">\n",
              "  <thead>\n",
              "    <tr style=\"text-align: right;\">\n",
              "      <th></th>\n",
              "      <th>Age</th>\n",
              "      <th>DailyRate</th>\n",
              "      <th>DistanceFromHome</th>\n",
              "      <th>Education</th>\n",
              "      <th>EmployeeCount</th>\n",
              "      <th>EmployeeNumber</th>\n",
              "      <th>EnvironmentSatisfaction</th>\n",
              "      <th>HourlyRate</th>\n",
              "      <th>JobInvolvement</th>\n",
              "      <th>JobLevel</th>\n",
              "      <th>...</th>\n",
              "      <th>RelationshipSatisfaction</th>\n",
              "      <th>StandardHours</th>\n",
              "      <th>StockOptionLevel</th>\n",
              "      <th>TotalWorkingYears</th>\n",
              "      <th>TrainingTimesLastYear</th>\n",
              "      <th>WorkLifeBalance</th>\n",
              "      <th>YearsAtCompany</th>\n",
              "      <th>YearsInCurrentRole</th>\n",
              "      <th>YearsSinceLastPromotion</th>\n",
              "      <th>YearsWithCurrManager</th>\n",
              "    </tr>\n",
              "  </thead>\n",
              "  <tbody>\n",
              "    <tr>\n",
              "      <th>count</th>\n",
              "      <td>1470.000000</td>\n",
              "      <td>1470.000000</td>\n",
              "      <td>1466.000000</td>\n",
              "      <td>1470.000000</td>\n",
              "      <td>1470.0</td>\n",
              "      <td>1470.000000</td>\n",
              "      <td>1470.000000</td>\n",
              "      <td>1470.000000</td>\n",
              "      <td>1470.000000</td>\n",
              "      <td>1470.000000</td>\n",
              "      <td>...</td>\n",
              "      <td>1470.000000</td>\n",
              "      <td>1470.0</td>\n",
              "      <td>1470.000000</td>\n",
              "      <td>1470.000000</td>\n",
              "      <td>1470.000000</td>\n",
              "      <td>1470.000000</td>\n",
              "      <td>1470.000000</td>\n",
              "      <td>1470.000000</td>\n",
              "      <td>1470.000000</td>\n",
              "      <td>1470.000000</td>\n",
              "    </tr>\n",
              "    <tr>\n",
              "      <th>mean</th>\n",
              "      <td>36.923810</td>\n",
              "      <td>802.485714</td>\n",
              "      <td>9.200546</td>\n",
              "      <td>2.912925</td>\n",
              "      <td>1.0</td>\n",
              "      <td>1024.865306</td>\n",
              "      <td>2.721769</td>\n",
              "      <td>65.891156</td>\n",
              "      <td>2.729932</td>\n",
              "      <td>2.063946</td>\n",
              "      <td>...</td>\n",
              "      <td>2.712245</td>\n",
              "      <td>80.0</td>\n",
              "      <td>0.793878</td>\n",
              "      <td>11.279592</td>\n",
              "      <td>2.799320</td>\n",
              "      <td>2.761224</td>\n",
              "      <td>7.008163</td>\n",
              "      <td>4.229252</td>\n",
              "      <td>2.187755</td>\n",
              "      <td>4.123129</td>\n",
              "    </tr>\n",
              "    <tr>\n",
              "      <th>std</th>\n",
              "      <td>9.135373</td>\n",
              "      <td>403.509100</td>\n",
              "      <td>8.110796</td>\n",
              "      <td>1.024165</td>\n",
              "      <td>0.0</td>\n",
              "      <td>602.024335</td>\n",
              "      <td>1.093082</td>\n",
              "      <td>20.329428</td>\n",
              "      <td>0.711561</td>\n",
              "      <td>1.106940</td>\n",
              "      <td>...</td>\n",
              "      <td>1.081209</td>\n",
              "      <td>0.0</td>\n",
              "      <td>0.852077</td>\n",
              "      <td>7.780782</td>\n",
              "      <td>1.289271</td>\n",
              "      <td>0.706476</td>\n",
              "      <td>6.126525</td>\n",
              "      <td>3.623137</td>\n",
              "      <td>3.222430</td>\n",
              "      <td>3.568136</td>\n",
              "    </tr>\n",
              "    <tr>\n",
              "      <th>min</th>\n",
              "      <td>18.000000</td>\n",
              "      <td>102.000000</td>\n",
              "      <td>1.000000</td>\n",
              "      <td>1.000000</td>\n",
              "      <td>1.0</td>\n",
              "      <td>1.000000</td>\n",
              "      <td>1.000000</td>\n",
              "      <td>30.000000</td>\n",
              "      <td>1.000000</td>\n",
              "      <td>1.000000</td>\n",
              "      <td>...</td>\n",
              "      <td>1.000000</td>\n",
              "      <td>80.0</td>\n",
              "      <td>0.000000</td>\n",
              "      <td>0.000000</td>\n",
              "      <td>0.000000</td>\n",
              "      <td>1.000000</td>\n",
              "      <td>0.000000</td>\n",
              "      <td>0.000000</td>\n",
              "      <td>0.000000</td>\n",
              "      <td>0.000000</td>\n",
              "    </tr>\n",
              "    <tr>\n",
              "      <th>25%</th>\n",
              "      <td>30.000000</td>\n",
              "      <td>465.000000</td>\n",
              "      <td>2.000000</td>\n",
              "      <td>2.000000</td>\n",
              "      <td>1.0</td>\n",
              "      <td>491.250000</td>\n",
              "      <td>2.000000</td>\n",
              "      <td>48.000000</td>\n",
              "      <td>2.000000</td>\n",
              "      <td>1.000000</td>\n",
              "      <td>...</td>\n",
              "      <td>2.000000</td>\n",
              "      <td>80.0</td>\n",
              "      <td>0.000000</td>\n",
              "      <td>6.000000</td>\n",
              "      <td>2.000000</td>\n",
              "      <td>2.000000</td>\n",
              "      <td>3.000000</td>\n",
              "      <td>2.000000</td>\n",
              "      <td>0.000000</td>\n",
              "      <td>2.000000</td>\n",
              "    </tr>\n",
              "    <tr>\n",
              "      <th>50%</th>\n",
              "      <td>36.000000</td>\n",
              "      <td>802.000000</td>\n",
              "      <td>7.000000</td>\n",
              "      <td>3.000000</td>\n",
              "      <td>1.0</td>\n",
              "      <td>1020.500000</td>\n",
              "      <td>3.000000</td>\n",
              "      <td>66.000000</td>\n",
              "      <td>3.000000</td>\n",
              "      <td>2.000000</td>\n",
              "      <td>...</td>\n",
              "      <td>3.000000</td>\n",
              "      <td>80.0</td>\n",
              "      <td>1.000000</td>\n",
              "      <td>10.000000</td>\n",
              "      <td>3.000000</td>\n",
              "      <td>3.000000</td>\n",
              "      <td>5.000000</td>\n",
              "      <td>3.000000</td>\n",
              "      <td>1.000000</td>\n",
              "      <td>3.000000</td>\n",
              "    </tr>\n",
              "    <tr>\n",
              "      <th>75%</th>\n",
              "      <td>43.000000</td>\n",
              "      <td>1157.000000</td>\n",
              "      <td>14.000000</td>\n",
              "      <td>4.000000</td>\n",
              "      <td>1.0</td>\n",
              "      <td>1555.750000</td>\n",
              "      <td>4.000000</td>\n",
              "      <td>83.750000</td>\n",
              "      <td>3.000000</td>\n",
              "      <td>3.000000</td>\n",
              "      <td>...</td>\n",
              "      <td>4.000000</td>\n",
              "      <td>80.0</td>\n",
              "      <td>1.000000</td>\n",
              "      <td>15.000000</td>\n",
              "      <td>3.000000</td>\n",
              "      <td>3.000000</td>\n",
              "      <td>9.000000</td>\n",
              "      <td>7.000000</td>\n",
              "      <td>3.000000</td>\n",
              "      <td>7.000000</td>\n",
              "    </tr>\n",
              "    <tr>\n",
              "      <th>max</th>\n",
              "      <td>60.000000</td>\n",
              "      <td>1499.000000</td>\n",
              "      <td>29.000000</td>\n",
              "      <td>5.000000</td>\n",
              "      <td>1.0</td>\n",
              "      <td>2068.000000</td>\n",
              "      <td>4.000000</td>\n",
              "      <td>100.000000</td>\n",
              "      <td>4.000000</td>\n",
              "      <td>5.000000</td>\n",
              "      <td>...</td>\n",
              "      <td>4.000000</td>\n",
              "      <td>80.0</td>\n",
              "      <td>3.000000</td>\n",
              "      <td>40.000000</td>\n",
              "      <td>6.000000</td>\n",
              "      <td>4.000000</td>\n",
              "      <td>40.000000</td>\n",
              "      <td>18.000000</td>\n",
              "      <td>15.000000</td>\n",
              "      <td>17.000000</td>\n",
              "    </tr>\n",
              "  </tbody>\n",
              "</table>\n",
              "<p>8 rows × 26 columns</p>\n",
              "</div>"
            ],
            "text/plain": [
              "               Age    DailyRate  DistanceFromHome    Education  EmployeeCount  \\\n",
              "count  1470.000000  1470.000000       1466.000000  1470.000000         1470.0   \n",
              "mean     36.923810   802.485714          9.200546     2.912925            1.0   \n",
              "std       9.135373   403.509100          8.110796     1.024165            0.0   \n",
              "min      18.000000   102.000000          1.000000     1.000000            1.0   \n",
              "25%      30.000000   465.000000          2.000000     2.000000            1.0   \n",
              "50%      36.000000   802.000000          7.000000     3.000000            1.0   \n",
              "75%      43.000000  1157.000000         14.000000     4.000000            1.0   \n",
              "max      60.000000  1499.000000         29.000000     5.000000            1.0   \n",
              "\n",
              "       EmployeeNumber  EnvironmentSatisfaction   HourlyRate  JobInvolvement  \\\n",
              "count     1470.000000              1470.000000  1470.000000     1470.000000   \n",
              "mean      1024.865306                 2.721769    65.891156        2.729932   \n",
              "std        602.024335                 1.093082    20.329428        0.711561   \n",
              "min          1.000000                 1.000000    30.000000        1.000000   \n",
              "25%        491.250000                 2.000000    48.000000        2.000000   \n",
              "50%       1020.500000                 3.000000    66.000000        3.000000   \n",
              "75%       1555.750000                 4.000000    83.750000        3.000000   \n",
              "max       2068.000000                 4.000000   100.000000        4.000000   \n",
              "\n",
              "          JobLevel  ...  RelationshipSatisfaction  StandardHours  \\\n",
              "count  1470.000000  ...               1470.000000         1470.0   \n",
              "mean      2.063946  ...                  2.712245           80.0   \n",
              "std       1.106940  ...                  1.081209            0.0   \n",
              "min       1.000000  ...                  1.000000           80.0   \n",
              "25%       1.000000  ...                  2.000000           80.0   \n",
              "50%       2.000000  ...                  3.000000           80.0   \n",
              "75%       3.000000  ...                  4.000000           80.0   \n",
              "max       5.000000  ...                  4.000000           80.0   \n",
              "\n",
              "       StockOptionLevel  TotalWorkingYears  TrainingTimesLastYear  \\\n",
              "count       1470.000000        1470.000000            1470.000000   \n",
              "mean           0.793878          11.279592               2.799320   \n",
              "std            0.852077           7.780782               1.289271   \n",
              "min            0.000000           0.000000               0.000000   \n",
              "25%            0.000000           6.000000               2.000000   \n",
              "50%            1.000000          10.000000               3.000000   \n",
              "75%            1.000000          15.000000               3.000000   \n",
              "max            3.000000          40.000000               6.000000   \n",
              "\n",
              "       WorkLifeBalance  YearsAtCompany  YearsInCurrentRole  \\\n",
              "count      1470.000000     1470.000000         1470.000000   \n",
              "mean          2.761224        7.008163            4.229252   \n",
              "std           0.706476        6.126525            3.623137   \n",
              "min           1.000000        0.000000            0.000000   \n",
              "25%           2.000000        3.000000            2.000000   \n",
              "50%           3.000000        5.000000            3.000000   \n",
              "75%           3.000000        9.000000            7.000000   \n",
              "max           4.000000       40.000000           18.000000   \n",
              "\n",
              "       YearsSinceLastPromotion  YearsWithCurrManager  \n",
              "count              1470.000000           1470.000000  \n",
              "mean                  2.187755              4.123129  \n",
              "std                   3.222430              3.568136  \n",
              "min                   0.000000              0.000000  \n",
              "25%                   0.000000              2.000000  \n",
              "50%                   1.000000              3.000000  \n",
              "75%                   3.000000              7.000000  \n",
              "max                  15.000000             17.000000  \n",
              "\n",
              "[8 rows x 26 columns]"
            ]
          },
          "execution_count": 23,
          "metadata": {},
          "output_type": "execute_result"
        }
      ],
      "source": [
        "HR_data.describe()"
      ]
    },
    {
      "cell_type": "code",
      "execution_count": null,
      "id": "d6824b94",
      "metadata": {
        "id": "d6824b94",
        "outputId": "5170942d-163d-4177-9cec-b4a2e31ab352"
      },
      "outputs": [
        {
          "data": {
            "text/plain": [
              "(1470, 35)"
            ]
          },
          "execution_count": 24,
          "metadata": {},
          "output_type": "execute_result"
        }
      ],
      "source": [
        "HR_data.shape"
      ]
    },
    {
      "cell_type": "code",
      "execution_count": null,
      "id": "fd7664b4",
      "metadata": {
        "id": "fd7664b4",
        "outputId": "7c4545eb-f1c9-47c7-d431-18f97457ecc4"
      },
      "outputs": [
        {
          "data": {
            "text/plain": [
              "51450"
            ]
          },
          "execution_count": 25,
          "metadata": {},
          "output_type": "execute_result"
        }
      ],
      "source": [
        "HR_data.size"
      ]
    },
    {
      "cell_type": "code",
      "execution_count": null,
      "id": "e795ef5f",
      "metadata": {
        "id": "e795ef5f",
        "outputId": "bc5d2c5e-07e9-4b6b-d616-ef8652af25d1"
      },
      "outputs": [
        {
          "data": {
            "text/plain": [
              "2"
            ]
          },
          "execution_count": 26,
          "metadata": {},
          "output_type": "execute_result"
        }
      ],
      "source": [
        "HR_data.ndim"
      ]
    },
    {
      "cell_type": "markdown",
      "id": "12782021",
      "metadata": {
        "id": "12782021"
      },
      "source": [
        "# MISSING VALUES"
      ]
    },
    {
      "cell_type": "code",
      "execution_count": null,
      "id": "168299a1",
      "metadata": {
        "id": "168299a1",
        "outputId": "b50b6a41-fcf0-4aa3-b5ea-d2174d246714"
      },
      "outputs": [
        {
          "data": {
            "text/plain": [
              "Age                          0\n",
              "Attrition                    0\n",
              "BusinessTravel              10\n",
              "DailyRate                    0\n",
              "Department                   5\n",
              "DistanceFromHome             4\n",
              "Education                    0\n",
              "EducationField               3\n",
              "EmployeeCount                0\n",
              "EmployeeNumber               0\n",
              "EnvironmentSatisfaction      0\n",
              "Gender                       0\n",
              "HourlyRate                   0\n",
              "JobInvolvement               0\n",
              "JobLevel                     0\n",
              "JobRole                      0\n",
              "JobSatisfaction              0\n",
              "MaritalStatus                0\n",
              "MonthlyIncome                0\n",
              "MonthlyRate                  0\n",
              "NumCompaniesWorked           0\n",
              "Over18                       0\n",
              "OverTime                     0\n",
              "PercentSalaryHike            0\n",
              "PerformanceRating            0\n",
              "RelationshipSatisfaction     0\n",
              "StandardHours                0\n",
              "StockOptionLevel             0\n",
              "TotalWorkingYears            0\n",
              "TrainingTimesLastYear        0\n",
              "WorkLifeBalance              0\n",
              "YearsAtCompany               0\n",
              "YearsInCurrentRole           0\n",
              "YearsSinceLastPromotion      0\n",
              "YearsWithCurrManager         0\n",
              "dtype: int64"
            ]
          },
          "execution_count": 28,
          "metadata": {},
          "output_type": "execute_result"
        }
      ],
      "source": [
        "HR_data.isna().sum()"
      ]
    },
    {
      "cell_type": "markdown",
      "id": "578216db",
      "metadata": {
        "id": "578216db"
      },
      "source": [
        "# OUTLIERS"
      ]
    },
    {
      "cell_type": "code",
      "execution_count": null,
      "id": "72c620f7",
      "metadata": {
        "id": "72c620f7",
        "outputId": "bf047315-1caf-4ea4-f39f-42003d6eb4c4"
      },
      "outputs": [
        {
          "data": {
            "text/plain": [
              "Index(['Age', 'Attrition', 'BusinessTravel', 'DailyRate', 'Department',\n",
              "       'DistanceFromHome', 'Education', 'EducationField', 'EmployeeCount',\n",
              "       'EmployeeNumber', 'EnvironmentSatisfaction', 'Gender', 'HourlyRate',\n",
              "       'JobInvolvement', 'JobLevel', 'JobRole', 'JobSatisfaction',\n",
              "       'MaritalStatus', 'MonthlyIncome', 'MonthlyRate', 'NumCompaniesWorked',\n",
              "       'Over18', 'OverTime', 'PercentSalaryHike', 'PerformanceRating',\n",
              "       'RelationshipSatisfaction', 'StandardHours', 'StockOptionLevel',\n",
              "       'TotalWorkingYears', 'TrainingTimesLastYear', 'WorkLifeBalance',\n",
              "       'YearsAtCompany', 'YearsInCurrentRole', 'YearsSinceLastPromotion',\n",
              "       'YearsWithCurrManager'],\n",
              "      dtype='object')"
            ]
          },
          "execution_count": 29,
          "metadata": {},
          "output_type": "execute_result"
        }
      ],
      "source": [
        "HR_data.columns"
      ]
    },
    {
      "cell_type": "code",
      "execution_count": null,
      "id": "4cb43503",
      "metadata": {
        "id": "4cb43503"
      },
      "outputs": [],
      "source": [
        "num_cols=['Age', 'DailyRate',\n",
        "       'DistanceFromHome', 'Education',  'EmployeeCount',\n",
        "       'EmployeeNumber', 'EnvironmentSatisfaction',  'HourlyRate',\n",
        "       'JobInvolvement', 'JobLevel',  'JobSatisfaction',\n",
        "       'MonthlyIncome', 'MonthlyRate', 'NumCompaniesWorked',\n",
        "        'PercentSalaryHike', 'PerformanceRating',\n",
        "       'RelationshipSatisfaction', 'StandardHours', 'StockOptionLevel',\n",
        "       'TotalWorkingYears', 'TrainingTimesLastYear', 'WorkLifeBalance',\n",
        "       'YearsAtCompany', 'YearsInCurrentRole', 'YearsSinceLastPromotion',\n",
        "       'YearsWithCurrManager']"
      ]
    },
    {
      "cell_type": "code",
      "execution_count": null,
      "id": "ed60c3e4",
      "metadata": {
        "id": "ed60c3e4",
        "outputId": "685c7192-99dd-47a2-fcc1-987adfa89939"
      },
      "outputs": [
        {
          "name": "stderr",
          "output_type": "stream",
          "text": [
            "C:\\Users\\ambad\\AppData\\Local\\Temp\\ipykernel_10360\\1912599173.py:2: RuntimeWarning: More than 20 figures have been opened. Figures created through the pyplot interface (`matplotlib.pyplot.figure`) are retained until explicitly closed and may consume too much memory. (To control this warning, see the rcParam `figure.max_open_warning`). Consider using `matplotlib.pyplot.close()`.\n",
            "  plt.figure()\n"
          ]
        },
        {
          "data": {
            "image/png": "[encoded data removed]",
            "text/plain": [
              "<Figure size 640x480 with 1 Axes>"
            ]
          },
          "metadata": {},
          "output_type": "display_data"
        },
        {
          "data": {
            "image/png": "[encoded data removed]",
            "text/plain": [
              "<Figure size 640x480 with 1 Axes>"
            ]
          },
          "metadata": {},
          "output_type": "display_data"
        },
        {
          "data": {
            "image/png": "[encoded data removed]",
            "text/plain": [
              "<Figure size 640x480 with 1 Axes>"
            ]
          },
          "metadata": {},
          "output_type": "display_data"
        },
        {
          "data": {
            "image/png": "[encoded data removed]",
            "text/plain": [
              "<Figure size 640x480 with 1 Axes>"
            ]
          },
          "metadata": {},
          "output_type": "display_data"
        },
        {
          "data": {
            "image/png": "[encoded data removed]",
            "text/plain": [
              "<Figure size 640x480 with 1 Axes>"
            ]
          },
          "metadata": {},
          "output_type": "display_data"
        },
        {
          "data": {
            "image/png": "[encoded data removed]",
            "text/plain": [
              "<Figure size 640x480 with 1 Axes>"
            ]
          },
          "metadata": {},
          "output_type": "display_data"
        },
        {
          "data": {
            "image/png": "[encoded data removed]",
            "text/plain": [
              "<Figure size 640x480 with 1 Axes>"
            ]
          },
          "metadata": {},
          "output_type": "display_data"
        },
        {
          "data": {
            "image/png": "[encoded data removed]",
            "text/plain": [
              "<Figure size 640x480 with 1 Axes>"
            ]
          },
          "metadata": {},
          "output_type": "display_data"
        },
        {
          "data": {
            "image/png": "[encoded data removed]",
            "text/plain": [
              "<Figure size 640x480 with 1 Axes>"
            ]
          },
          "metadata": {},
          "output_type": "display_data"
        },
        {
          "data": {
            "image/png": "[encoded data removed]",
            "text/plain": [
              "<Figure size 640x480 with 1 Axes>"
            ]
          },
          "metadata": {},
          "output_type": "display_data"
        },
        {
          "data": {
            "image/png": "[encoded data removed]",
            "text/plain": [
              "<Figure size 640x480 with 1 Axes>"
            ]
          },
          "metadata": {},
          "output_type": "display_data"
        },
        {
          "data": {
            "image/png": "[encoded data removed]",
            "text/plain": [
              "<Figure size 640x480 with 1 Axes>"
            ]
          },
          "metadata": {},
          "output_type": "display_data"
        },
        {
          "data": {
            "image/png": "[encoded data removed]",
            "text/plain": [
              "<Figure size 640x480 with 1 Axes>"
            ]
          },
          "metadata": {},
          "output_type": "display_data"
        },
        {
          "data": {
            "image/png": "[encoded data removed]",
            "text/plain": [
              "<Figure size 640x480 with 1 Axes>"
            ]
          },
          "metadata": {},
          "output_type": "display_data"
        },
        {
          "data": {
            "image/png": "[encoded data removed]",
            "text/plain": [
              "<Figure size 640x480 with 1 Axes>"
            ]
          },
          "metadata": {},
          "output_type": "display_data"
        },
        {
          "data": {
            "image/png": "[encoded data removed]",
            "text/plain": [
              "<Figure size 640x480 with 1 Axes>"
            ]
          },
          "metadata": {},
          "output_type": "display_data"
        },
        {
          "data": {
            "image/png": "[encoded data removed]",
            "text/plain": [
              "<Figure size 640x480 with 1 Axes>"
            ]
          },
          "metadata": {},
          "output_type": "display_data"
        },
        {
          "data": {
            "image/png": "[encoded data removed]",
            "text/plain": [
              "<Figure size 640x480 with 1 Axes>"
            ]
          },
          "metadata": {},
          "output_type": "display_data"
        },
        {
          "data": {
            "image/png": "[encoded data removed]",
            "text/plain": [
              "<Figure size 640x480 with 1 Axes>"
            ]
          },
          "metadata": {},
          "output_type": "display_data"
        },
        {
          "data": {
            "image/png": "[encoded data removed]",
            "text/plain": [
              "<Figure size 640x480 with 1 Axes>"
            ]
          },
          "metadata": {},
          "output_type": "display_data"
        },
        {
          "data": {
            "image/png": "[encoded data removed]",
            "text/plain": [
              "<Figure size 640x480 with 1 Axes>"
            ]
          },
          "metadata": {},
          "output_type": "display_data"
        },
        {
          "data": {
            "image/png": "[encoded data removed]",
            "text/plain": [
              "<Figure size 640x480 with 1 Axes>"
            ]
          },
          "metadata": {},
          "output_type": "display_data"
        },
        {
          "data": {
            "image/png": "[encoded data removed]",
            "text/plain": [
              "<Figure size 640x480 with 1 Axes>"
            ]
          },
          "metadata": {},
          "output_type": "display_data"
        },
        {
          "data": {
            "image/png": "[encoded data removed]",
            "text/plain": [
              "<Figure size 640x480 with 1 Axes>"
            ]
          },
          "metadata": {},
          "output_type": "display_data"
        },
        {
          "data": {
            "image/png": "[encoded data removed]",
            "text/plain": [
              "<Figure size 640x480 with 1 Axes>"
            ]
          },
          "metadata": {},
          "output_type": "display_data"
        },
        {
          "data": {
            "image/png": "[encoded data removed]",
            "text/plain": [
              "<Figure size 640x480 with 1 Axes>"
            ]
          },
          "metadata": {},
          "output_type": "display_data"
        }
      ],
      "source": [
        "for i in num_cols:\n",
        "    plt.figure()\n",
        "    sns.boxplot(HR_data[i])\n",
        "    plt.title(i)"
      ]
    },
    {
      "cell_type": "markdown",
      "id": "8f149c8f",
      "metadata": {
        "id": "8f149c8f"
      },
      "source": [
        "# MISSING DATA HANDLING"
      ]
    },
    {
      "cell_type": "code",
      "execution_count": null,
      "id": "3e7b7a5c",
      "metadata": {
        "id": "3e7b7a5c"
      },
      "outputs": [],
      "source": [
        "#FILLING INTEGER TYPE\n",
        "HR_data['DistanceFromHome']=HR_data['DistanceFromHome'].fillna(HR_data['DistanceFromHome'].median())"
      ]
    },
    {
      "cell_type": "code",
      "execution_count": null,
      "id": "3be37495",
      "metadata": {
        "id": "3be37495"
      },
      "outputs": [],
      "source": [
        "#FILLING OBJECTIVE TYPE\n",
        "HR_data['BusinessTravel'].fillna(method='ffill', inplace=True)\n",
        "HR_data['Department'].fillna(method='ffill',inplace=True)\n",
        "HR_data['EducationField'].fillna(method='ffill',inplace=True)"
      ]
    },
    {
      "cell_type": "code",
      "execution_count": null,
      "id": "507c7048",
      "metadata": {
        "id": "507c7048",
        "outputId": "3350e74e-114a-41ad-ff1d-61d50bb182b6"
      },
      "outputs": [
        {
          "data": {
            "text/plain": [
              "Age                         0\n",
              "Attrition                   0\n",
              "BusinessTravel              0\n",
              "DailyRate                   0\n",
              "Department                  0\n",
              "DistanceFromHome            0\n",
              "Education                   0\n",
              "EducationField              0\n",
              "EmployeeCount               0\n",
              "EmployeeNumber              0\n",
              "EnvironmentSatisfaction     0\n",
              "Gender                      0\n",
              "HourlyRate                  0\n",
              "JobInvolvement              0\n",
              "JobLevel                    0\n",
              "JobRole                     0\n",
              "JobSatisfaction             0\n",
              "MaritalStatus               0\n",
              "MonthlyIncome               0\n",
              "MonthlyRate                 0\n",
              "NumCompaniesWorked          0\n",
              "Over18                      0\n",
              "OverTime                    0\n",
              "PercentSalaryHike           0\n",
              "PerformanceRating           0\n",
              "RelationshipSatisfaction    0\n",
              "StandardHours               0\n",
              "StockOptionLevel            0\n",
              "TotalWorkingYears           0\n",
              "TrainingTimesLastYear       0\n",
              "WorkLifeBalance             0\n",
              "YearsAtCompany              0\n",
              "YearsInCurrentRole          0\n",
              "YearsSinceLastPromotion     0\n",
              "YearsWithCurrManager        0\n",
              "dtype: int64"
            ]
          },
          "execution_count": 42,
          "metadata": {},
          "output_type": "execute_result"
        }
      ],
      "source": [
        "HR_data.isna().sum()"
      ]
    },
    {
      "cell_type": "markdown",
      "id": "21fa8ebb",
      "metadata": {
        "id": "21fa8ebb"
      },
      "source": [
        "# OUTLIER CORRECTION"
      ]
    },
    {
      "cell_type": "markdown",
      "id": "c9334020",
      "metadata": {
        "id": "c9334020"
      },
      "source": [
        "# (1)MonthlyIncome"
      ]
    },
    {
      "cell_type": "code",
      "execution_count": null,
      "id": "901ed3f9",
      "metadata": {
        "id": "901ed3f9"
      },
      "outputs": [],
      "source": [
        "q1=np.percentile(HR_data['MonthlyIncome'],25,method='midpoint')\n",
        "q2=np.percentile(HR_data['MonthlyIncome'],50,method='midpoint')\n",
        "q3=np.percentile(HR_data['MonthlyIncome'],75,method='midpoint')"
      ]
    },
    {
      "cell_type": "code",
      "execution_count": null,
      "id": "041947cd",
      "metadata": {
        "id": "041947cd",
        "outputId": "3ba958ef-f9fd-4d24-dcdd-e3b60ca1fe85"
      },
      "outputs": [
        {
          "data": {
            "text/plain": [
              "2911.0"
            ]
          },
          "execution_count": 45,
          "metadata": {},
          "output_type": "execute_result"
        }
      ],
      "source": [
        "q1"
      ]
    },
    {
      "cell_type": "code",
      "execution_count": null,
      "id": "815a3223",
      "metadata": {
        "id": "815a3223",
        "outputId": "ea8834d9-402c-4229-c53b-c1109803b7db"
      },
      "outputs": [
        {
          "data": {
            "text/plain": [
              "4919.0"
            ]
          },
          "execution_count": 46,
          "metadata": {},
          "output_type": "execute_result"
        }
      ],
      "source": [
        "q2"
      ]
    },
    {
      "cell_type": "code",
      "execution_count": null,
      "id": "eb1b9682",
      "metadata": {
        "id": "eb1b9682",
        "outputId": "81ecdc16-1d96-4c37-8c64-64727d6aa669"
      },
      "outputs": [
        {
          "data": {
            "text/plain": [
              "8378.0"
            ]
          },
          "execution_count": 47,
          "metadata": {},
          "output_type": "execute_result"
        }
      ],
      "source": [
        "q3"
      ]
    },
    {
      "cell_type": "code",
      "execution_count": null,
      "id": "63e70251",
      "metadata": {
        "id": "63e70251",
        "outputId": "4f83680b-034c-4e58-915e-3e8ae9fde6da"
      },
      "outputs": [
        {
          "data": {
            "text/plain": [
              "5467.0"
            ]
          },
          "execution_count": 48,
          "metadata": {},
          "output_type": "execute_result"
        }
      ],
      "source": [
        "#inter quartile range\n",
        "iqr=q3-q1\n",
        "iqr"
      ]
    },
    {
      "cell_type": "code",
      "execution_count": null,
      "id": "6b94a038",
      "metadata": {
        "id": "6b94a038",
        "outputId": "3f0c437f-bf58-4a58-f045-e93cf1c3bdd6"
      },
      "outputs": [
        {
          "data": {
            "text/plain": [
              "-5289.5"
            ]
          },
          "execution_count": 49,
          "metadata": {},
          "output_type": "execute_result"
        }
      ],
      "source": [
        "lower_limit=q1-1.5*iqr\n",
        "lower_limit"
      ]
    },
    {
      "cell_type": "code",
      "execution_count": null,
      "id": "91587ae4",
      "metadata": {
        "id": "91587ae4",
        "outputId": "1ae76332-a1c3-452e-9124-f78451f4e7e6"
      },
      "outputs": [
        {
          "data": {
            "text/plain": [
              "16578.5"
            ]
          },
          "execution_count": 50,
          "metadata": {},
          "output_type": "execute_result"
        }
      ],
      "source": [
        "upper_limit=q3+1.5*iqr\n",
        "upper_limit"
      ]
    },
    {
      "cell_type": "code",
      "execution_count": null,
      "id": "53048915",
      "metadata": {
        "id": "53048915",
        "outputId": "43528cc3-3876-4b3c-d0cb-f458c399d334"
      },
      "outputs": [
        {
          "data": {
            "text/plain": [
              "[19094,\n",
              " 18947,\n",
              " 19545,\n",
              " 18740,\n",
              " 18844,\n",
              " 18172,\n",
              " 17328,\n",
              " 16959,\n",
              " 19537,\n",
              " 17181,\n",
              " 19926,\n",
              " 19033,\n",
              " 18722,\n",
              " 19999,\n",
              " 16792,\n",
              " 19232,\n",
              " 19517,\n",
              " 19068,\n",
              " 19202,\n",
              " 19436,\n",
              " 16872,\n",
              " 19045,\n",
              " 19144,\n",
              " 17584,\n",
              " 18665,\n",
              " 17068,\n",
              " 19272,\n",
              " 18300,\n",
              " 16659,\n",
              " 19406,\n",
              " 19197,\n",
              " 19566,\n",
              " 18041,\n",
              " 17046,\n",
              " 17861,\n",
              " 16835,\n",
              " 16595,\n",
              " 19502,\n",
              " 18200,\n",
              " 16627,\n",
              " 19513,\n",
              " 19141,\n",
              " 19189,\n",
              " 16856,\n",
              " 19859,\n",
              " 18430,\n",
              " 17639,\n",
              " 16752,\n",
              " 19246,\n",
              " 17159,\n",
              " 17924,\n",
              " 17099,\n",
              " 17444,\n",
              " 17399,\n",
              " 19419,\n",
              " 18303,\n",
              " 19973,\n",
              " 19845,\n",
              " 17650,\n",
              " 19237,\n",
              " 19627,\n",
              " 16756,\n",
              " 17665,\n",
              " 16885,\n",
              " 17465,\n",
              " 19626,\n",
              " 19943,\n",
              " 18606,\n",
              " 17048,\n",
              " 17856,\n",
              " 19081,\n",
              " 17779,\n",
              " 19740,\n",
              " 18711,\n",
              " 18265,\n",
              " 18213,\n",
              " 18824,\n",
              " 18789,\n",
              " 19847,\n",
              " 19190,\n",
              " 18061,\n",
              " 17123,\n",
              " 16880,\n",
              " 17861,\n",
              " 19187,\n",
              " 19717,\n",
              " 16799,\n",
              " 17328,\n",
              " 19701,\n",
              " 17169,\n",
              " 16598,\n",
              " 17007,\n",
              " 16606,\n",
              " 19586,\n",
              " 19331,\n",
              " 19613,\n",
              " 17567,\n",
              " 19049,\n",
              " 19658,\n",
              " 17426,\n",
              " 17603,\n",
              " 16704,\n",
              " 19833,\n",
              " 19038,\n",
              " 19328,\n",
              " 19392,\n",
              " 19665,\n",
              " 16823,\n",
              " 17174,\n",
              " 17875,\n",
              " 19161,\n",
              " 19636,\n",
              " 19431,\n",
              " 18880]"
            ]
          },
          "execution_count": 52,
          "metadata": {},
          "output_type": "execute_result"
        }
      ],
      "source": [
        "outlier=[]\n",
        "for x in HR_data['MonthlyIncome']:\n",
        "    if ((x>upper_limit) or (x<lower_limit)):\n",
        "        outlier.append(x)\n",
        "outlier"
      ]
    },
    {
      "cell_type": "code",
      "execution_count": null,
      "id": "3cdd6eba",
      "metadata": {
        "id": "3cdd6eba"
      },
      "outputs": [],
      "source": [
        "HR_data['MonthlyIncome']=HR_data['MonthlyIncome'].clip(lower=lower_limit,upper=upper_limit)"
      ]
    },
    {
      "cell_type": "code",
      "execution_count": null,
      "id": "953b5647",
      "metadata": {
        "id": "953b5647",
        "outputId": "5e2a88ed-be0c-4b61-c17d-c87e820b5d90"
      },
      "outputs": [
        {
          "data": {
            "text/plain": [
              "[]"
            ]
          },
          "execution_count": 55,
          "metadata": {},
          "output_type": "execute_result"
        }
      ],
      "source": [
        "outlier=[]\n",
        "for x in HR_data['MonthlyIncome']:\n",
        "    if ((x>upper_limit) or (x<lower_limit)):\n",
        "        outlier.append(x)\n",
        "outlier"
      ]
    },
    {
      "cell_type": "markdown",
      "id": "9929938f",
      "metadata": {
        "id": "9929938f"
      },
      "source": [
        "# (2)NumCompaniesWorked"
      ]
    },
    {
      "cell_type": "code",
      "execution_count": null,
      "id": "0d7c0a02",
      "metadata": {
        "id": "0d7c0a02"
      },
      "outputs": [],
      "source": [
        "q1=np.percentile(HR_data['NumCompaniesWorked'],25,method='midpoint')\n",
        "q2=np.percentile(HR_data['NumCompaniesWorked'],50,method='midpoint')\n",
        "q3=np.percentile(HR_data['NumCompaniesWorked'],75,method='midpoint')"
      ]
    },
    {
      "cell_type": "code",
      "execution_count": null,
      "id": "3673e0eb",
      "metadata": {
        "id": "3673e0eb",
        "outputId": "46c5afdb-b2fc-459b-97f8-b865c962161d"
      },
      "outputs": [
        {
          "data": {
            "text/plain": [
              "1.0"
            ]
          },
          "execution_count": 57,
          "metadata": {},
          "output_type": "execute_result"
        }
      ],
      "source": [
        "q1"
      ]
    },
    {
      "cell_type": "code",
      "execution_count": null,
      "id": "873d8ba9",
      "metadata": {
        "id": "873d8ba9",
        "outputId": "ee7619d5-1a0f-407c-8869-ef59cea28492"
      },
      "outputs": [
        {
          "data": {
            "text/plain": [
              "2.0"
            ]
          },
          "execution_count": 58,
          "metadata": {},
          "output_type": "execute_result"
        }
      ],
      "source": [
        "q2"
      ]
    },
    {
      "cell_type": "code",
      "execution_count": null,
      "id": "39e8dad0",
      "metadata": {
        "id": "39e8dad0",
        "outputId": "f5914116-2d5b-4511-b9c7-0e643b208cff"
      },
      "outputs": [
        {
          "data": {
            "text/plain": [
              "4.0"
            ]
          },
          "execution_count": 59,
          "metadata": {},
          "output_type": "execute_result"
        }
      ],
      "source": [
        "q3"
      ]
    },
    {
      "cell_type": "code",
      "execution_count": null,
      "id": "ace16c01",
      "metadata": {
        "id": "ace16c01",
        "outputId": "e13ec3f1-88c0-46e9-9011-7dfc5c070b76"
      },
      "outputs": [
        {
          "data": {
            "text/plain": [
              "3.0"
            ]
          },
          "execution_count": 60,
          "metadata": {},
          "output_type": "execute_result"
        }
      ],
      "source": [
        "#inter quartile range\n",
        "iqr=q3-q1\n",
        "iqr"
      ]
    },
    {
      "cell_type": "code",
      "execution_count": null,
      "id": "a7639719",
      "metadata": {
        "id": "a7639719",
        "outputId": "9140a6c5-32a9-4ff6-c60c-61c2e5d61c00"
      },
      "outputs": [
        {
          "data": {
            "text/plain": [
              "-3.5"
            ]
          },
          "execution_count": 61,
          "metadata": {},
          "output_type": "execute_result"
        }
      ],
      "source": [
        "lower_limit=q1-1.5*iqr\n",
        "lower_limit"
      ]
    },
    {
      "cell_type": "code",
      "execution_count": null,
      "id": "8c2e97b4",
      "metadata": {
        "id": "8c2e97b4",
        "outputId": "71af1b6d-537a-4b65-8231-3bd79f757b41"
      },
      "outputs": [
        {
          "data": {
            "text/plain": [
              "8.5"
            ]
          },
          "execution_count": 62,
          "metadata": {},
          "output_type": "execute_result"
        }
      ],
      "source": [
        "upper_limit=q3+1.5*iqr\n",
        "upper_limit"
      ]
    },
    {
      "cell_type": "code",
      "execution_count": null,
      "id": "2ef623fe",
      "metadata": {
        "id": "2ef623fe",
        "outputId": "f5da3fdf-17e8-4bc8-91a1-784d772df483"
      },
      "outputs": [
        {
          "data": {
            "text/plain": [
              "[9,\n",
              " 9,\n",
              " 9,\n",
              " 9,\n",
              " 9,\n",
              " 9,\n",
              " 9,\n",
              " 9,\n",
              " 9,\n",
              " 9,\n",
              " 9,\n",
              " 9,\n",
              " 9,\n",
              " 9,\n",
              " 9,\n",
              " 9,\n",
              " 9,\n",
              " 9,\n",
              " 9,\n",
              " 9,\n",
              " 9,\n",
              " 9,\n",
              " 9,\n",
              " 9,\n",
              " 9,\n",
              " 9,\n",
              " 9,\n",
              " 9,\n",
              " 9,\n",
              " 9,\n",
              " 9,\n",
              " 9,\n",
              " 9,\n",
              " 9,\n",
              " 9,\n",
              " 9,\n",
              " 9,\n",
              " 9,\n",
              " 9,\n",
              " 9,\n",
              " 9,\n",
              " 9,\n",
              " 9,\n",
              " 9,\n",
              " 9,\n",
              " 9,\n",
              " 9,\n",
              " 9,\n",
              " 9,\n",
              " 9,\n",
              " 9,\n",
              " 9]"
            ]
          },
          "execution_count": 63,
          "metadata": {},
          "output_type": "execute_result"
        }
      ],
      "source": [
        "outlier=[]\n",
        "for x in HR_data['NumCompaniesWorked']:\n",
        "    if ((x>upper_limit) or (x<lower_limit)):\n",
        "        outlier.append(x)\n",
        "\n",
        "outlier"
      ]
    },
    {
      "cell_type": "code",
      "execution_count": null,
      "id": "a8b1299f",
      "metadata": {
        "id": "a8b1299f"
      },
      "outputs": [],
      "source": [
        "HR_data['NumCompaniesWorked']=HR_data['NumCompaniesWorked'].clip(lower=lower_limit,upper=upper_limit)"
      ]
    },
    {
      "cell_type": "code",
      "execution_count": null,
      "id": "af844060",
      "metadata": {
        "id": "af844060",
        "outputId": "fa3eb37a-a9e0-4598-cb9a-fdf0ddc492df"
      },
      "outputs": [
        {
          "data": {
            "text/plain": [
              "[]"
            ]
          },
          "execution_count": 66,
          "metadata": {},
          "output_type": "execute_result"
        }
      ],
      "source": [
        "outlier=[]\n",
        "for x in HR_data['NumCompaniesWorked']:\n",
        "    if ((x>upper_limit) or (x<lower_limit)):\n",
        "        outlier.append(x)\n",
        "\n",
        "outlier"
      ]
    },
    {
      "cell_type": "markdown",
      "id": "5196f6c8",
      "metadata": {
        "id": "5196f6c8"
      },
      "source": [
        "# (3)PerformanceRating"
      ]
    },
    {
      "cell_type": "code",
      "execution_count": null,
      "id": "a942afd2",
      "metadata": {
        "id": "a942afd2"
      },
      "outputs": [],
      "source": [
        "q1=np.percentile(HR_data['PerformanceRating'],25,method='midpoint')\n",
        "q2=np.percentile(HR_data['PerformanceRating'],50,method='midpoint')\n",
        "q3=np.percentile(HR_data['PerformanceRating'],75,method='midpoint')"
      ]
    },
    {
      "cell_type": "code",
      "execution_count": null,
      "id": "821d8d96",
      "metadata": {
        "id": "821d8d96",
        "outputId": "9c72dbe6-9417-4181-8b1d-212e0d7dd6fd"
      },
      "outputs": [
        {
          "data": {
            "text/plain": [
              "2.5"
            ]
          },
          "execution_count": 109,
          "metadata": {},
          "output_type": "execute_result"
        }
      ],
      "source": [
        "q1"
      ]
    },
    {
      "cell_type": "code",
      "execution_count": null,
      "id": "69f1d491",
      "metadata": {
        "id": "69f1d491",
        "outputId": "33763024-b677-40bc-a6e7-b67934856550"
      },
      "outputs": [
        {
          "data": {
            "text/plain": [
              "2.5"
            ]
          },
          "execution_count": 110,
          "metadata": {},
          "output_type": "execute_result"
        }
      ],
      "source": [
        "q2"
      ]
    },
    {
      "cell_type": "code",
      "execution_count": null,
      "id": "b2ef0a3f",
      "metadata": {
        "id": "b2ef0a3f",
        "outputId": "db3e8853-a3bc-4123-89b2-554c5855213b"
      },
      "outputs": [
        {
          "data": {
            "text/plain": [
              "2.5"
            ]
          },
          "execution_count": 111,
          "metadata": {},
          "output_type": "execute_result"
        }
      ],
      "source": [
        "q3"
      ]
    },
    {
      "cell_type": "code",
      "execution_count": null,
      "id": "1cf0d626",
      "metadata": {
        "id": "1cf0d626",
        "outputId": "57253797-75b7-4cce-8c80-e098cc667b66"
      },
      "outputs": [
        {
          "data": {
            "text/plain": [
              "0.0"
            ]
          },
          "execution_count": 112,
          "metadata": {},
          "output_type": "execute_result"
        }
      ],
      "source": [
        "#inter quartile range\n",
        "\n",
        "iqr=q3-q1\n",
        "iqr"
      ]
    },
    {
      "cell_type": "code",
      "execution_count": null,
      "id": "6acc5aa0",
      "metadata": {
        "id": "6acc5aa0",
        "outputId": "2c61bc2a-80fa-4e08-c6fb-8dfc3ad168f7"
      },
      "outputs": [
        {
          "data": {
            "text/plain": [
              "2.5"
            ]
          },
          "execution_count": 113,
          "metadata": {},
          "output_type": "execute_result"
        }
      ],
      "source": [
        "lower_limit=q1-1.5*iqr\n",
        "lower_limit"
      ]
    },
    {
      "cell_type": "code",
      "execution_count": null,
      "id": "445ce5e4",
      "metadata": {
        "id": "445ce5e4",
        "outputId": "c5205cdf-e0b5-487e-f218-40a7672fa201"
      },
      "outputs": [
        {
          "data": {
            "text/plain": [
              "2.5"
            ]
          },
          "execution_count": 114,
          "metadata": {},
          "output_type": "execute_result"
        }
      ],
      "source": [
        "upper_limit=q3+1.5*iqr\n",
        "upper_limit"
      ]
    },
    {
      "cell_type": "code",
      "execution_count": null,
      "id": "aff48f6d",
      "metadata": {
        "id": "aff48f6d",
        "outputId": "b095cd1f-9a5a-4550-ddd2-677119ddfafb"
      },
      "outputs": [
        {
          "data": {
            "text/plain": [
              "[]"
            ]
          },
          "execution_count": 115,
          "metadata": {},
          "output_type": "execute_result"
        }
      ],
      "source": [
        "outlier=[]\n",
        "for x in HR_data['PerformanceRating']:\n",
        "    if ((x>upper_limit) or (x<lower_limit)):\n",
        "        outlier.append(x)\n",
        "outlier"
      ]
    },
    {
      "cell_type": "code",
      "execution_count": null,
      "id": "5d72026f",
      "metadata": {
        "id": "5d72026f"
      },
      "outputs": [],
      "source": [
        "HR_data['PerformanceRating']=HR_data['PerformanceRating'].clip(lower=lower_limit,upper=upper_limit)"
      ]
    },
    {
      "cell_type": "code",
      "execution_count": null,
      "id": "59e3a8f4",
      "metadata": {
        "id": "59e3a8f4",
        "outputId": "2ef341d4-9b43-4841-be10-0e5e778a63c0"
      },
      "outputs": [
        {
          "data": {
            "text/plain": [
              "[]"
            ]
          },
          "execution_count": 117,
          "metadata": {},
          "output_type": "execute_result"
        }
      ],
      "source": [
        "outlier=[]\n",
        "for x in HR_data['PerformanceRating']:\n",
        "    if ((x>upper_limit) or (x<lower_limit)):\n",
        "        outlier.append(x)\n",
        "outlier"
      ]
    },
    {
      "cell_type": "markdown",
      "id": "19dd0c7f",
      "metadata": {
        "id": "19dd0c7f"
      },
      "source": [
        "# (4)StockOptionLevel"
      ]
    },
    {
      "cell_type": "code",
      "execution_count": null,
      "id": "31c116c2",
      "metadata": {
        "id": "31c116c2"
      },
      "outputs": [],
      "source": [
        "q1=np.percentile(HR_data['StockOptionLevel'],25,method='midpoint')\n",
        "q2=np.percentile(HR_data['StockOptionLevel'],50,method='midpoint')\n",
        "q3=np.percentile(HR_data['StockOptionLevel'],75,method='midpoint')"
      ]
    },
    {
      "cell_type": "code",
      "execution_count": null,
      "id": "31a64053",
      "metadata": {
        "id": "31a64053",
        "outputId": "ed593713-8f90-4c4b-dac8-3f8abb643078"
      },
      "outputs": [
        {
          "data": {
            "text/plain": [
              "0.0"
            ]
          },
          "execution_count": 98,
          "metadata": {},
          "output_type": "execute_result"
        }
      ],
      "source": [
        "q1"
      ]
    },
    {
      "cell_type": "code",
      "execution_count": null,
      "id": "dbb9b568",
      "metadata": {
        "id": "dbb9b568",
        "outputId": "7bcb9164-7d75-480d-a27e-35ffb4aa8c5f"
      },
      "outputs": [
        {
          "data": {
            "text/plain": [
              "1.0"
            ]
          },
          "execution_count": 99,
          "metadata": {},
          "output_type": "execute_result"
        }
      ],
      "source": [
        "q2"
      ]
    },
    {
      "cell_type": "code",
      "execution_count": null,
      "id": "c4a4a4d8",
      "metadata": {
        "id": "c4a4a4d8",
        "outputId": "6a68c4d1-2cb7-4d5e-c0ae-39d9b7dcc132"
      },
      "outputs": [
        {
          "data": {
            "text/plain": [
              "1.0"
            ]
          },
          "execution_count": 100,
          "metadata": {},
          "output_type": "execute_result"
        }
      ],
      "source": [
        "q3"
      ]
    },
    {
      "cell_type": "code",
      "execution_count": null,
      "id": "9e88b39e",
      "metadata": {
        "id": "9e88b39e",
        "outputId": "740e6838-1595-4b15-ba4c-72b3368a1b76"
      },
      "outputs": [
        {
          "data": {
            "text/plain": [
              "1.0"
            ]
          },
          "execution_count": 101,
          "metadata": {},
          "output_type": "execute_result"
        }
      ],
      "source": [
        "#inter quartile range\n",
        "\n",
        "iqr=q3-q1\n",
        "iqr"
      ]
    },
    {
      "cell_type": "code",
      "execution_count": null,
      "id": "64ca7ffc",
      "metadata": {
        "id": "64ca7ffc",
        "outputId": "0a6fa427-60cf-4ba6-a761-bc7ecff3fc18"
      },
      "outputs": [
        {
          "data": {
            "text/plain": [
              "-1.5"
            ]
          },
          "execution_count": 102,
          "metadata": {},
          "output_type": "execute_result"
        }
      ],
      "source": [
        "lower_limit=q1-1.5*iqr\n",
        "lower_limit"
      ]
    },
    {
      "cell_type": "code",
      "execution_count": null,
      "id": "7f2b3981",
      "metadata": {
        "id": "7f2b3981",
        "outputId": "b4f0184b-1b58-4717-a66c-77e76b7f8db8"
      },
      "outputs": [
        {
          "data": {
            "text/plain": [
              "2.5"
            ]
          },
          "execution_count": 103,
          "metadata": {},
          "output_type": "execute_result"
        }
      ],
      "source": [
        "upper_limit=q3+1.5*iqr\n",
        "upper_limit"
      ]
    },
    {
      "cell_type": "code",
      "execution_count": null,
      "id": "ac8fb651",
      "metadata": {
        "id": "ac8fb651",
        "outputId": "6f695e2b-b8df-46e2-8e58-0d649d38ce9c"
      },
      "outputs": [
        {
          "data": {
            "text/plain": [
              "[3,\n",
              " 3,\n",
              " 3,\n",
              " 3,\n",
              " 3,\n",
              " 3,\n",
              " 3,\n",
              " 3,\n",
              " 3,\n",
              " 3,\n",
              " 3,\n",
              " 3,\n",
              " 3,\n",
              " 3,\n",
              " 3,\n",
              " 3,\n",
              " 3,\n",
              " 3,\n",
              " 3,\n",
              " 3,\n",
              " 3,\n",
              " 3,\n",
              " 3,\n",
              " 3,\n",
              " 3,\n",
              " 3,\n",
              " 3,\n",
              " 3,\n",
              " 3,\n",
              " 3,\n",
              " 3,\n",
              " 3,\n",
              " 3,\n",
              " 3,\n",
              " 3,\n",
              " 3,\n",
              " 3,\n",
              " 3,\n",
              " 3,\n",
              " 3,\n",
              " 3,\n",
              " 3,\n",
              " 3,\n",
              " 3,\n",
              " 3,\n",
              " 3,\n",
              " 3,\n",
              " 3,\n",
              " 3,\n",
              " 3,\n",
              " 3,\n",
              " 3,\n",
              " 3,\n",
              " 3,\n",
              " 3,\n",
              " 3,\n",
              " 3,\n",
              " 3,\n",
              " 3,\n",
              " 3,\n",
              " 3,\n",
              " 3,\n",
              " 3,\n",
              " 3,\n",
              " 3,\n",
              " 3,\n",
              " 3,\n",
              " 3,\n",
              " 3,\n",
              " 3,\n",
              " 3,\n",
              " 3,\n",
              " 3,\n",
              " 3,\n",
              " 3,\n",
              " 3,\n",
              " 3,\n",
              " 3,\n",
              " 3,\n",
              " 3,\n",
              " 3,\n",
              " 3,\n",
              " 3,\n",
              " 3,\n",
              " 3]"
            ]
          },
          "execution_count": 104,
          "metadata": {},
          "output_type": "execute_result"
        }
      ],
      "source": [
        "outlier=[]\n",
        "for x in HR_data['StockOptionLevel']:\n",
        "    if ((x>upper_limit) or (x<lower_limit)):\n",
        "        outlier.append(x)\n",
        "outlier"
      ]
    },
    {
      "cell_type": "code",
      "execution_count": null,
      "id": "6843e881",
      "metadata": {
        "id": "6843e881"
      },
      "outputs": [],
      "source": [
        "HR_data['StockOptionLevel']=HR_data['StockOptionLevel'].clip(lower=lower_limit,upper=upper_limit)"
      ]
    },
    {
      "cell_type": "code",
      "execution_count": null,
      "id": "a8749a63",
      "metadata": {
        "id": "a8749a63",
        "outputId": "8475c20f-dda1-4211-baf3-d46d25510c23"
      },
      "outputs": [
        {
          "data": {
            "text/plain": [
              "[]"
            ]
          },
          "execution_count": 106,
          "metadata": {},
          "output_type": "execute_result"
        }
      ],
      "source": [
        "outlier=[]\n",
        "for x in HR_data['StockOptionLevel']:\n",
        "    if ((x>upper_limit) or (x<lower_limit)):\n",
        "        outlier.append(x)\n",
        "outlier"
      ]
    },
    {
      "cell_type": "markdown",
      "id": "46168091",
      "metadata": {
        "id": "46168091"
      },
      "source": [
        "# (5)TotalWorkingYears"
      ]
    },
    {
      "cell_type": "code",
      "execution_count": null,
      "id": "2de91b81",
      "metadata": {
        "id": "2de91b81"
      },
      "outputs": [],
      "source": [
        "q1=np.percentile(HR_data['TotalWorkingYears'],25,method='midpoint')\n",
        "q2=np.percentile(HR_data['TotalWorkingYears'],50,method='midpoint')\n",
        "q3=np.percentile(HR_data['TotalWorkingYears'],75,method='midpoint')"
      ]
    },
    {
      "cell_type": "code",
      "execution_count": null,
      "id": "d8271f49",
      "metadata": {
        "id": "d8271f49",
        "outputId": "b9396a70-ef04-4468-f17c-e5bcefa40997"
      },
      "outputs": [
        {
          "data": {
            "text/plain": [
              "6.0"
            ]
          },
          "execution_count": 88,
          "metadata": {},
          "output_type": "execute_result"
        }
      ],
      "source": [
        "q1"
      ]
    },
    {
      "cell_type": "code",
      "execution_count": null,
      "id": "5211fecd",
      "metadata": {
        "id": "5211fecd",
        "outputId": "4e31a4c6-893f-41ae-da8c-aa6dd9d98b0e"
      },
      "outputs": [
        {
          "data": {
            "text/plain": [
              "10.0"
            ]
          },
          "execution_count": 90,
          "metadata": {},
          "output_type": "execute_result"
        }
      ],
      "source": [
        "q2"
      ]
    },
    {
      "cell_type": "code",
      "execution_count": null,
      "id": "83036803",
      "metadata": {
        "id": "83036803",
        "outputId": "ac00544a-3874-4f05-dd7c-ff34813836d0"
      },
      "outputs": [
        {
          "data": {
            "text/plain": [
              "15.0"
            ]
          },
          "execution_count": 91,
          "metadata": {},
          "output_type": "execute_result"
        }
      ],
      "source": [
        "q3"
      ]
    },
    {
      "cell_type": "code",
      "execution_count": null,
      "id": "325023c3",
      "metadata": {
        "id": "325023c3",
        "outputId": "4577f0ec-2d2a-4112-a6e2-3e1657aff906"
      },
      "outputs": [
        {
          "data": {
            "text/plain": [
              "9.0"
            ]
          },
          "execution_count": 92,
          "metadata": {},
          "output_type": "execute_result"
        }
      ],
      "source": [
        "#inter quartile range\n",
        "\n",
        "iqr=q3-q1\n",
        "iqr"
      ]
    },
    {
      "cell_type": "code",
      "execution_count": null,
      "id": "e79a0c00",
      "metadata": {
        "id": "e79a0c00",
        "outputId": "0285d78a-da38-4c41-bf36-f281ba95dbcd"
      },
      "outputs": [
        {
          "data": {
            "text/plain": [
              "-7.5"
            ]
          },
          "execution_count": 93,
          "metadata": {},
          "output_type": "execute_result"
        }
      ],
      "source": [
        "lower_limit=q1-1.5*iqr\n",
        "lower_limit"
      ]
    },
    {
      "cell_type": "code",
      "execution_count": null,
      "id": "9dbf89f8",
      "metadata": {
        "id": "9dbf89f8",
        "outputId": "1e595363-9d44-4e7e-83d1-46f32356e531"
      },
      "outputs": [
        {
          "data": {
            "text/plain": [
              "2.5"
            ]
          },
          "execution_count": 118,
          "metadata": {},
          "output_type": "execute_result"
        }
      ],
      "source": [
        "upper_limit=q3+1.5*iqr\n",
        "upper_limit"
      ]
    },
    {
      "cell_type": "code",
      "execution_count": null,
      "id": "e528b545",
      "metadata": {
        "id": "e528b545",
        "outputId": "bd1c6e97-bf27-4771-a667-492bba2d6b01"
      },
      "outputs": [
        {
          "data": {
            "text/plain": [
              "[8,\n",
              " 10,\n",
              " 7,\n",
              " 8,\n",
              " 6,\n",
              " 8,\n",
              " 12,\n",
              " 1,\n",
              " 10,\n",
              " 17,\n",
              " 6,\n",
              " 10,\n",
              " 5,\n",
              " 3,\n",
              " 6,\n",
              " 10,\n",
              " 7,\n",
              " 1,\n",
              " 31,\n",
              " 6,\n",
              " 5,\n",
              " 10,\n",
              " 13,\n",
              " 0,\n",
              " 8,\n",
              " 26,\n",
              " 10,\n",
              " 10,\n",
              " 24,\n",
              " 22,\n",
              " 7,\n",
              " 9,\n",
              " 10,\n",
              " 19,\n",
              " 6,\n",
              " 6,\n",
              " 3,\n",
              " 2,\n",
              " 6,\n",
              " 10,\n",
              " 1,\n",
              " 1,\n",
              " 1,\n",
              " 9,\n",
              " 12,\n",
              " 23,\n",
              " 10,\n",
              " 8,\n",
              " 14,\n",
              " 1,\n",
              " 23,\n",
              " 2,\n",
              " 9,\n",
              " 10,\n",
              " 5,\n",
              " 15,\n",
              " 9,\n",
              " 4,\n",
              " 10,\n",
              " 7,\n",
              " 9,\n",
              " 10,\n",
              " 29,\n",
              " 28,\n",
              " 17,\n",
              " 21,\n",
              " 6,\n",
              " 25,\n",
              " 5,\n",
              " 2,\n",
              " 20,\n",
              " 6,\n",
              " 1,\n",
              " 10,\n",
              " 5,\n",
              " 11,\n",
              " 16,\n",
              " 17,\n",
              " 16,\n",
              " 16,\n",
              " 10,\n",
              " 6,\n",
              " 24,\n",
              " 17,\n",
              " 5,\n",
              " 37,\n",
              " 3,\n",
              " 10,\n",
              " 11,\n",
              " 9,\n",
              " 22,\n",
              " 11,\n",
              " 11,\n",
              " 21,\n",
              " 12,\n",
              " 16,\n",
              " 4,\n",
              " 5,\n",
              " 38,\n",
              " 17,\n",
              " 7,\n",
              " 1,\n",
              " 1,\n",
              " 16,\n",
              " 17,\n",
              " 30,\n",
              " 28,\n",
              " 6,\n",
              " 2,\n",
              " 1,\n",
              " 23,\n",
              " 9,\n",
              " 23,\n",
              " 6,\n",
              " 12,\n",
              " 12,\n",
              " 14,\n",
              " 10,\n",
              " 7,\n",
              " 25,\n",
              " 10,\n",
              " 8,\n",
              " 7,\n",
              " 23,\n",
              " 12,\n",
              " 5,\n",
              " 40,\n",
              " 0,\n",
              " 3,\n",
              " 16,\n",
              " 18,\n",
              " 16,\n",
              " 4,\n",
              " 12,\n",
              " 8,\n",
              " 7,\n",
              " 18,\n",
              " 17,\n",
              " 6,\n",
              " 12,\n",
              " 10,\n",
              " 9,\n",
              " 19,\n",
              " 5,\n",
              " 9,\n",
              " 8,\n",
              " 6,\n",
              " 21,\n",
              " 7,\n",
              " 1,\n",
              " 20,\n",
              " 10,\n",
              " 13,\n",
              " 20,\n",
              " 9,\n",
              " 10,\n",
              " 10,\n",
              " 9,\n",
              " 15,\n",
              " 6,\n",
              " 2,\n",
              " 6,\n",
              " 5,\n",
              " 12,\n",
              " 1,\n",
              " 21,\n",
              " 13,\n",
              " 12,\n",
              " 12,\n",
              " 8,\n",
              " 6,\n",
              " 1,\n",
              " 13,\n",
              " 12,\n",
              " 9,\n",
              " 19,\n",
              " 4,\n",
              " 1,\n",
              " 24,\n",
              " 2,\n",
              " 7,\n",
              " 9,\n",
              " 4,\n",
              " 5,\n",
              " 5,\n",
              " 8,\n",
              " 21,\n",
              " 36,\n",
              " 10,\n",
              " 21,\n",
              " 34,\n",
              " 7,\n",
              " 8,\n",
              " 7,\n",
              " 22,\n",
              " 8,\n",
              " 10,\n",
              " 11,\n",
              " 14,\n",
              " 9,\n",
              " 6,\n",
              " 7,\n",
              " 5,\n",
              " 15,\n",
              " 17,\n",
              " 10,\n",
              " 4,\n",
              " 8,\n",
              " 5,\n",
              " 17,\n",
              " 14,\n",
              " 12,\n",
              " 7,\n",
              " 16,\n",
              " 8,\n",
              " 16,\n",
              " 9,\n",
              " 7,\n",
              " 23,\n",
              " 16,\n",
              " 16,\n",
              " 7,\n",
              " 10,\n",
              " 17,\n",
              " 6,\n",
              " 7,\n",
              " 13,\n",
              " 11,\n",
              " 10,\n",
              " 4,\n",
              " 6,\n",
              " 22,\n",
              " 7,\n",
              " 32,\n",
              " 8,\n",
              " 22,\n",
              " 13,\n",
              " 33,\n",
              " 6,\n",
              " 4,\n",
              " 7,\n",
              " 4,\n",
              " 17,\n",
              " 9,\n",
              " 25,\n",
              " 9,\n",
              " 2,\n",
              " 13,\n",
              " 17,\n",
              " 9,\n",
              " 17,\n",
              " 20,\n",
              " 6,\n",
              " 10,\n",
              " 10,\n",
              " 5,\n",
              " 10,\n",
              " 22,\n",
              " 1,\n",
              " 6,\n",
              " 5,\n",
              " 13,\n",
              " 9,\n",
              " 28,\n",
              " 5,\n",
              " 10,\n",
              " 10,\n",
              " 6,\n",
              " 21,\n",
              " 16,\n",
              " 37,\n",
              " 10,\n",
              " 5,\n",
              " 7,\n",
              " 3,\n",
              " 15,\n",
              " 10,\n",
              " 8,\n",
              " 6,\n",
              " 28,\n",
              " 21,\n",
              " 20,\n",
              " 10,\n",
              " 12,\n",
              " 5,\n",
              " 17,\n",
              " 19,\n",
              " 10,\n",
              " 5,\n",
              " 5,\n",
              " 22,\n",
              " 10,\n",
              " 2,\n",
              " 8,\n",
              " 4,\n",
              " 23,\n",
              " 0,\n",
              " 12,\n",
              " 4,\n",
              " 13,\n",
              " 22,\n",
              " 0,\n",
              " 9,\n",
              " 10,\n",
              " 19,\n",
              " 11,\n",
              " 13,\n",
              " 19,\n",
              " 12,\n",
              " 6,\n",
              " 9,\n",
              " 24,\n",
              " 3,\n",
              " 12,\n",
              " 21,\n",
              " 9,\n",
              " 25,\n",
              " 11,\n",
              " 4,\n",
              " 13,\n",
              " 5,\n",
              " 13,\n",
              " 10,\n",
              " 5,\n",
              " 11,\n",
              " 10,\n",
              " 21,\n",
              " 12,\n",
              " 9,\n",
              " 21,\n",
              " 9,\n",
              " 6,\n",
              " 20,\n",
              " 10,\n",
              " 12,\n",
              " 6,\n",
              " 7,\n",
              " 4,\n",
              " 10,\n",
              " 8,\n",
              " 8,\n",
              " 12,\n",
              " 11,\n",
              " 7,\n",
              " 17,\n",
              " 4,\n",
              " 8,\n",
              " 5,\n",
              " 16,\n",
              " 4,\n",
              " 4,\n",
              " 8,\n",
              " 15,\n",
              " 13,\n",
              " 4,\n",
              " 8,\n",
              " 14,\n",
              " 3,\n",
              " 7,\n",
              " 16,\n",
              " 15,\n",
              " 10,\n",
              " 3,\n",
              " 1,\n",
              " 17,\n",
              " 7,\n",
              " 8,\n",
              " 20,\n",
              " 8,\n",
              " 3,\n",
              " 1,\n",
              " 6,\n",
              " 10,\n",
              " 5,\n",
              " 7,\n",
              " 26,\n",
              " 18,\n",
              " 6,\n",
              " 9,\n",
              " 30,\n",
              " 5,\n",
              " 1,\n",
              " 7,\n",
              " 2,\n",
              " 10,\n",
              " 3,\n",
              " 18,\n",
              " 8,\n",
              " 8,\n",
              " 18,\n",
              " 25,\n",
              " 20,\n",
              " 24,\n",
              " 6,\n",
              " 13,\n",
              " 8,\n",
              " 8,\n",
              " 5,\n",
              " 15,\n",
              " 4,\n",
              " 21,\n",
              " 36,\n",
              " 6,\n",
              " 10,\n",
              " 10,\n",
              " 6,\n",
              " 28,\n",
              " 8,\n",
              " 31,\n",
              " 19,\n",
              " 11,\n",
              " 33,\n",
              " 19,\n",
              " 7,\n",
              " 6,\n",
              " 3,\n",
              " 1,\n",
              " 21,\n",
              " 3,\n",
              " 9,\n",
              " 10,\n",
              " 6,\n",
              " 1,\n",
              " 10,\n",
              " 32,\n",
              " 28,\n",
              " 12,\n",
              " 22,\n",
              " 20,\n",
              " 26,\n",
              " 6,\n",
              " 19,\n",
              " 14,\n",
              " 15,\n",
              " 13,\n",
              " 15,\n",
              " 8,\n",
              " 4,\n",
              " 10,\n",
              " 12,\n",
              " 11,\n",
              " 8,\n",
              " 10,\n",
              " 4,\n",
              " 14,\n",
              " 37,\n",
              " 16,\n",
              " 15,\n",
              " 22,\n",
              " 8,\n",
              " 10,\n",
              " 10,\n",
              " 9,\n",
              " 8,\n",
              " 8,\n",
              " 10,\n",
              " 10,\n",
              " 0,\n",
              " 20,\n",
              " 10,\n",
              " 8,\n",
              " 5,\n",
              " 10,\n",
              " 1,\n",
              " 12,\n",
              " 28,\n",
              " 22,\n",
              " 9,\n",
              " 18,\n",
              " 6,\n",
              " 3,\n",
              " 18,\n",
              " 8,\n",
              " 31,\n",
              " 6,\n",
              " 6,\n",
              " 1,\n",
              " 32,\n",
              " 7,\n",
              " 6,\n",
              " 1,\n",
              " 6,\n",
              " 9,\n",
              " 9,\n",
              " 13,\n",
              " 6,\n",
              " 17,\n",
              " 1,\n",
              " 10,\n",
              " 21,\n",
              " 8,\n",
              " 10,\n",
              " 21,\n",
              " 10,\n",
              " 8,\n",
              " 5,\n",
              " 3,\n",
              " 26,\n",
              " 3,\n",
              " 6,\n",
              " 6,\n",
              " 1,\n",
              " 18,\n",
              " 10,\n",
              " 5,\n",
              " 3,\n",
              " 10,\n",
              " 6,\n",
              " 17,\n",
              " 15,\n",
              " 16,\n",
              " 13,\n",
              " 5,\n",
              " 1,\n",
              " 10,\n",
              " 1,\n",
              " 5,\n",
              " 4,\n",
              " 8,\n",
              " 10,\n",
              " 12,\n",
              " 6,\n",
              " 4,\n",
              " 20,\n",
              " 9,\n",
              " 4,\n",
              " 20,\n",
              " 10,\n",
              " 18,\n",
              " 10,\n",
              " 9,\n",
              " 10,\n",
              " 20,\n",
              " 20,\n",
              " 32,\n",
              " 23,\n",
              " 10,\n",
              " 9,\n",
              " 22,\n",
              " 4,\n",
              " 10,\n",
              " 10,\n",
              " 10,\n",
              " 9,\n",
              " 28,\n",
              " 10,\n",
              " 1,\n",
              " 7,\n",
              " 7,\n",
              " 10,\n",
              " 5,\n",
              " 12,\n",
              " 30,\n",
              " 5,\n",
              " 9,\n",
              " 2,\n",
              " 19,\n",
              " 16,\n",
              " 10,\n",
              " 6,\n",
              " 7,\n",
              " 34,\n",
              " 10,\n",
              " 6,\n",
              " 9,\n",
              " 2,\n",
              " 8,\n",
              " 6,\n",
              " 24,\n",
              " 10,\n",
              " 5,\n",
              " 5,\n",
              " 11,\n",
              " 6,\n",
              " 10,\n",
              " 9,\n",
              " 5,\n",
              " 6,\n",
              " 17,\n",
              " 6,\n",
              " 3,\n",
              " 7,\n",
              " 8,\n",
              " 6,\n",
              " 24,\n",
              " 1,\n",
              " 1,\n",
              " 9,\n",
              " 30,\n",
              " 1,\n",
              " 14,\n",
              " 6,\n",
              " 26,\n",
              " 10,\n",
              " 10,\n",
              " 40,\n",
              " 7,\n",
              " 8,\n",
              " 5,\n",
              " 8,\n",
              " 14,\n",
              " 10,\n",
              " 12,\n",
              " 1,\n",
              " 10,\n",
              " 13,\n",
              " 6,\n",
              " 9,\n",
              " 12,\n",
              " 22,\n",
              " 9,\n",
              " 17,\n",
              " 8,\n",
              " 4,\n",
              " 8,\n",
              " 0,\n",
              " 29,\n",
              " 10,\n",
              " 6,\n",
              " 9,\n",
              " 6,\n",
              " 18,\n",
              " 8,\n",
              " 10,\n",
              " 35,\n",
              " 18,\n",
              " 9,\n",
              " 31,\n",
              " 9,\n",
              " 6,\n",
              " 4,\n",
              " 10,\n",
              " 8,\n",
              " 6,\n",
              " 5,\n",
              " 17,\n",
              " 10,\n",
              " 4,\n",
              " 5,\n",
              " 7,\n",
              " 6,\n",
              " 10,\n",
              " 3,\n",
              " 17,\n",
              " 8,\n",
              " 5,\n",
              " 28,\n",
              " 16,\n",
              " 10,\n",
              " 33,\n",
              " 12,\n",
              " 8,\n",
              " 10,\n",
              " 31,\n",
              " 13,\n",
              " 7,\n",
              " 1,\n",
              " 8,\n",
              " 8,\n",
              " 4,\n",
              " 3,\n",
              " 4,\n",
              " 2,\n",
              " 1,\n",
              " 17,\n",
              " 3,\n",
              " 4,\n",
              " 10,\n",
              " 6,\n",
              " 8,\n",
              " 1,\n",
              " 1,\n",
              " 10,\n",
              " 6,\n",
              " 24,\n",
              " 13,\n",
              " 10,\n",
              " 29,\n",
              " 13,\n",
              " 9,\n",
              " 8,\n",
              " 15,\n",
              " 5,\n",
              " 1,\n",
              " 11,\n",
              " 7,\n",
              " 20,\n",
              " 16,\n",
              " 1,\n",
              " 1,\n",
              " 10,\n",
              " 3,\n",
              " 8,\n",
              " 16,\n",
              " 6,\n",
              " 17,\n",
              " 9,\n",
              " 3,\n",
              " 5,\n",
              " 26,\n",
              " 7,\n",
              " 22,\n",
              " 10,\n",
              " 6,\n",
              " 12,\n",
              " 9,\n",
              " 22,\n",
              " 20,\n",
              " 12,\n",
              " 4,\n",
              " 10,\n",
              " 3,\n",
              " 5,\n",
              " 8,\n",
              " 32,\n",
              " 6,\n",
              " 21,\n",
              " 4,\n",
              " 9,\n",
              " 9,\n",
              " 7,\n",
              " 22,\n",
              " 3,\n",
              " 13,\n",
              " 5,\n",
              " 5,\n",
              " 4,\n",
              " 0,\n",
              " 22,\n",
              " 16,\n",
              " 9,\n",
              " 1,\n",
              " 4,\n",
              " 8,\n",
              " 4,\n",
              " 19,\n",
              " 27,\n",
              " 8,\n",
              " 21,\n",
              " 4,\n",
              " 3,\n",
              " 21,\n",
              " 8,\n",
              " 30,\n",
              " 15,\n",
              " 17,\n",
              " 21,\n",
              " 19,\n",
              " 7,\n",
              " 33,\n",
              " 23,\n",
              " 19,\n",
              " 18,\n",
              " 21,\n",
              " 3,\n",
              " 26,\n",
              " 10,\n",
              " 16,\n",
              " 14,\n",
              " 6,\n",
              " 30,\n",
              " 9,\n",
              " 6,\n",
              " 1,\n",
              " 1,\n",
              " 8,\n",
              " 29,\n",
              " 8,\n",
              " 8,\n",
              " 5,\n",
              " 23,\n",
              " 13,\n",
              " 18,\n",
              " 15,\n",
              " 31,\n",
              " 18,\n",
              " 2,\n",
              " 1,\n",
              " 19,\n",
              " 18,\n",
              " 10,\n",
              " 6,\n",
              " 7,\n",
              " 10,\n",
              " 20,\n",
              " 14,\n",
              " 3,\n",
              " 23,\n",
              " 10,\n",
              " 24,\n",
              " 9,\n",
              " 9,\n",
              " 14,\n",
              " 4,\n",
              " 7,\n",
              " 8,\n",
              " 7,\n",
              " 1,\n",
              " 5,\n",
              " 23,\n",
              " 1,\n",
              " 5,\n",
              " 4,\n",
              " 6,\n",
              " 27,\n",
              " 15,\n",
              " 18,\n",
              " 9,\n",
              " 11,\n",
              " 10,\n",
              " 23,\n",
              " 10,\n",
              " 18,\n",
              " 21,\n",
              " 21,\n",
              " 2,\n",
              " 9,\n",
              " 18,\n",
              " 3,\n",
              " 6,\n",
              " 5,\n",
              " 22,\n",
              " 5,\n",
              " 8,\n",
              " 16,\n",
              " 10,\n",
              " 7,\n",
              " 3,\n",
              " 0,\n",
              " 6,\n",
              " 6,\n",
              " 2,\n",
              " 9,\n",
              " 4,\n",
              " 6,\n",
              " 6,\n",
              " 11,\n",
              " 20,\n",
              " 22,\n",
              " 9,\n",
              " 10,\n",
              " 6,\n",
              " 1,\n",
              " 8,\n",
              " 10,\n",
              " 16,\n",
              " 15,\n",
              " 14,\n",
              " 2,\n",
              " 7,\n",
              " 1,\n",
              " 28,\n",
              " 10,\n",
              " 1,\n",
              " 7,\n",
              " 14,\n",
              " 2,\n",
              " 6,\n",
              " 26,\n",
              " 6,\n",
              " 1,\n",
              " 28,\n",
              " 6,\n",
              " 5,\n",
              " 5,\n",
              " 8,\n",
              " 5,\n",
              " 32,\n",
              " 6,\n",
              " 25,\n",
              " 15,\n",
              " 1,\n",
              " 10,\n",
              " 7,\n",
              " 10,\n",
              " 20,\n",
              " 2,\n",
              " 12,\n",
              " 10,\n",
              " 12,\n",
              " 2,\n",
              " 10,\n",
              " 17,\n",
              " 15,\n",
              " 7,\n",
              " 5,\n",
              " 12,\n",
              " 20,\n",
              " 16,\n",
              " 9,\n",
              " 33,\n",
              " 10,\n",
              " 1,\n",
              " 3,\n",
              " 36,\n",
              " 6,\n",
              " 10,\n",
              " 13,\n",
              " 25,\n",
              " 23,\n",
              " 12,\n",
              " 7,\n",
              " 5,\n",
              " 6,\n",
              " 25,\n",
              " 9,\n",
              " 2,\n",
              " 26,\n",
              " 10,\n",
              " 1,\n",
              " 1,\n",
              " 1,\n",
              " 8,\n",
              " 26,\n",
              " 34,\n",
              " 2,\n",
              " 26,\n",
              " 4,\n",
              " 31,\n",
              " 25,\n",
              " 15,\n",
              " 5,\n",
              " 26,\n",
              " 14,\n",
              " 4,\n",
              " 18,\n",
              " 23,\n",
              " 18,\n",
              " 10,\n",
              " 2,\n",
              " 8,\n",
              " 10,\n",
              " 10,\n",
              " 5,\n",
              " 2,\n",
              " 10,\n",
              " 22,\n",
              " 21,\n",
              " 2,\n",
              " 10,\n",
              " 6,\n",
              " 10,\n",
              " 10,\n",
              " 10,\n",
              " 10,\n",
              " 25,\n",
              " 9,\n",
              " 10,\n",
              " 9,\n",
              " 9,\n",
              " 10,\n",
              " 19,\n",
              " 3,\n",
              " 10,\n",
              " 21,\n",
              " 23,\n",
              " 36,\n",
              " 6,\n",
              " 10,\n",
              " 9,\n",
              " 10,\n",
              " 9,\n",
              " 33,\n",
              " 11,\n",
              " 10,\n",
              " 7,\n",
              " 31,\n",
              " 7,\n",
              " 17,\n",
              " 11,\n",
              " 5,\n",
              " 29,\n",
              " 0,\n",
              " 10,\n",
              " 8,\n",
              " 24,\n",
              " 33,\n",
              " 5,\n",
              " 15,\n",
              " 10,\n",
              " 3,\n",
              " 5,\n",
              " 4,\n",
              " 14,\n",
              " 5,\n",
              " 10,\n",
              " 8,\n",
              " 14,\n",
              " 12,\n",
              " 8,\n",
              " 8,\n",
              " 4,\n",
              " 13,\n",
              " 6,\n",
              " 24,\n",
              " 20,\n",
              " 6,\n",
              " 8,\n",
              " 5,\n",
              " 21,\n",
              " ...]"
            ]
          },
          "execution_count": 119,
          "metadata": {},
          "output_type": "execute_result"
        }
      ],
      "source": [
        "outlier=[]\n",
        "for x in HR_data['TotalWorkingYears']:\n",
        "    if ((x>upper_limit) or (x<lower_limit)):\n",
        "        outlier.append(x)\n",
        "outlier"
      ]
    },
    {
      "cell_type": "code",
      "execution_count": null,
      "id": "c36ee9d7",
      "metadata": {
        "id": "c36ee9d7"
      },
      "outputs": [],
      "source": [
        "HR_data['TotalWorkingYears']=HR_data['TotalWorkingYears'].clip(lower=lower_limit,upper=upper_limit)"
      ]
    },
    {
      "cell_type": "code",
      "execution_count": null,
      "id": "d5641c7c",
      "metadata": {
        "id": "d5641c7c",
        "outputId": "ad2c0d51-7c03-45f0-f63e-8191a7aa7ee4"
      },
      "outputs": [
        {
          "data": {
            "text/plain": [
              "[]"
            ]
          },
          "execution_count": 121,
          "metadata": {},
          "output_type": "execute_result"
        }
      ],
      "source": [
        "outlier=[]\n",
        "for x in HR_data['TotalWorkingYears']:\n",
        "    if ((x>upper_limit) or (x<lower_limit)):\n",
        "        outlier.append(x)\n",
        "outlier"
      ]
    },
    {
      "cell_type": "markdown",
      "id": "9ae91ac1",
      "metadata": {
        "id": "9ae91ac1"
      },
      "source": [
        "# (6)TrainingTimesLastYear"
      ]
    },
    {
      "cell_type": "code",
      "execution_count": null,
      "id": "b48314aa",
      "metadata": {
        "id": "b48314aa"
      },
      "outputs": [],
      "source": [
        "q1=np.percentile(HR_data['TrainingTimesLastYear'],25,method='midpoint')\n",
        "q2=np.percentile(HR_data['TrainingTimesLastYear'],50,method='midpoint')\n",
        "q3=np.percentile(HR_data['TrainingTimesLastYear'],75,method='midpoint')"
      ]
    },
    {
      "cell_type": "code",
      "execution_count": null,
      "id": "2f8e10bf",
      "metadata": {
        "id": "2f8e10bf",
        "outputId": "908d5c6d-abcb-43b2-eb45-0d3bfd53a877"
      },
      "outputs": [
        {
          "data": {
            "text/plain": [
              "2.0"
            ]
          },
          "execution_count": 123,
          "metadata": {},
          "output_type": "execute_result"
        }
      ],
      "source": [
        "q1"
      ]
    },
    {
      "cell_type": "code",
      "execution_count": null,
      "id": "5e35abe4",
      "metadata": {
        "id": "5e35abe4",
        "outputId": "23ea6977-a85b-43f2-c761-056b5d493bab"
      },
      "outputs": [
        {
          "data": {
            "text/plain": [
              "3.0"
            ]
          },
          "execution_count": 124,
          "metadata": {},
          "output_type": "execute_result"
        }
      ],
      "source": [
        "q2"
      ]
    },
    {
      "cell_type": "code",
      "execution_count": null,
      "id": "c157dfe3",
      "metadata": {
        "id": "c157dfe3",
        "outputId": "0946dbd3-b900-4946-e428-a43eddd11223"
      },
      "outputs": [
        {
          "data": {
            "text/plain": [
              "3.0"
            ]
          },
          "execution_count": 125,
          "metadata": {},
          "output_type": "execute_result"
        }
      ],
      "source": [
        "q3"
      ]
    },
    {
      "cell_type": "code",
      "execution_count": null,
      "id": "0258208c",
      "metadata": {
        "id": "0258208c",
        "outputId": "63d3eba9-1b14-44c3-c7b6-4473a2da0ecd"
      },
      "outputs": [
        {
          "data": {
            "text/plain": [
              "1.0"
            ]
          },
          "execution_count": 126,
          "metadata": {},
          "output_type": "execute_result"
        }
      ],
      "source": [
        "#inter quartile range\n",
        "\n",
        "iqr=q3-q1\n",
        "iqr"
      ]
    },
    {
      "cell_type": "code",
      "execution_count": null,
      "id": "4237acfd",
      "metadata": {
        "id": "4237acfd",
        "outputId": "67a8ad0c-893d-4a8a-d17b-d9df2e76f479"
      },
      "outputs": [
        {
          "data": {
            "text/plain": [
              "0.5"
            ]
          },
          "execution_count": 127,
          "metadata": {},
          "output_type": "execute_result"
        }
      ],
      "source": [
        "lower_limit=q1-1.5*iqr\n",
        "lower_limit"
      ]
    },
    {
      "cell_type": "code",
      "execution_count": null,
      "id": "6fc3191f",
      "metadata": {
        "id": "6fc3191f",
        "outputId": "a5211516-bc56-4ded-d94e-14f908d679d2"
      },
      "outputs": [
        {
          "data": {
            "text/plain": [
              "4.5"
            ]
          },
          "execution_count": 128,
          "metadata": {},
          "output_type": "execute_result"
        }
      ],
      "source": [
        "upper_limit=q3+1.5*iqr\n",
        "upper_limit"
      ]
    },
    {
      "cell_type": "code",
      "execution_count": null,
      "id": "39647d7a",
      "metadata": {
        "id": "39647d7a",
        "outputId": "93604afb-98a4-43ff-a0cd-0a849fde976c"
      },
      "outputs": [
        {
          "data": {
            "text/plain": [
              "[0,\n",
              " 5,\n",
              " 5,\n",
              " 5,\n",
              " 6,\n",
              " 5,\n",
              " 5,\n",
              " 5,\n",
              " 6,\n",
              " 6,\n",
              " 0,\n",
              " 0,\n",
              " 0,\n",
              " 5,\n",
              " 0,\n",
              " 5,\n",
              " 5,\n",
              " 5,\n",
              " 6,\n",
              " 6,\n",
              " 5,\n",
              " 0,\n",
              " 6,\n",
              " 5,\n",
              " 5,\n",
              " 0,\n",
              " 5,\n",
              " 5,\n",
              " 6,\n",
              " 5,\n",
              " 5,\n",
              " 5,\n",
              " 0,\n",
              " 5,\n",
              " 5,\n",
              " 5,\n",
              " 5,\n",
              " 6,\n",
              " 6,\n",
              " 5,\n",
              " 5,\n",
              " 5,\n",
              " 5,\n",
              " 0,\n",
              " 0,\n",
              " 5,\n",
              " 5,\n",
              " 5,\n",
              " 6,\n",
              " 6,\n",
              " 5,\n",
              " 0,\n",
              " 5,\n",
              " 0,\n",
              " 5,\n",
              " 5,\n",
              " 0,\n",
              " 6,\n",
              " 0,\n",
              " 5,\n",
              " 5,\n",
              " 6,\n",
              " 6,\n",
              " 5,\n",
              " 6,\n",
              " 5,\n",
              " 0,\n",
              " 5,\n",
              " 5,\n",
              " 5,\n",
              " 5,\n",
              " 0,\n",
              " 6,\n",
              " 5,\n",
              " 5,\n",
              " 5,\n",
              " 5,\n",
              " 6,\n",
              " 5,\n",
              " 5,\n",
              " 6,\n",
              " 5,\n",
              " 5,\n",
              " 5,\n",
              " 0,\n",
              " 5,\n",
              " 0,\n",
              " 5,\n",
              " 5,\n",
              " 6,\n",
              " 5,\n",
              " 6,\n",
              " 5,\n",
              " 0,\n",
              " 5,\n",
              " 5,\n",
              " 0,\n",
              " 6,\n",
              " 6,\n",
              " 5,\n",
              " 6,\n",
              " 0,\n",
              " 5,\n",
              " 0,\n",
              " 6,\n",
              " 6,\n",
              " 6,\n",
              " 6,\n",
              " 5,\n",
              " 5,\n",
              " 0,\n",
              " 5,\n",
              " 0,\n",
              " 0,\n",
              " 6,\n",
              " 0,\n",
              " 6,\n",
              " 5,\n",
              " 6,\n",
              " 5,\n",
              " 5,\n",
              " 0,\n",
              " 5,\n",
              " 6,\n",
              " 6,\n",
              " 5,\n",
              " 5,\n",
              " 0,\n",
              " 0,\n",
              " 6,\n",
              " 0,\n",
              " 0,\n",
              " 5,\n",
              " 0,\n",
              " 5,\n",
              " 6,\n",
              " 5,\n",
              " 5,\n",
              " 6,\n",
              " 6,\n",
              " 5,\n",
              " 5,\n",
              " 5,\n",
              " 5,\n",
              " 5,\n",
              " 6,\n",
              " 5,\n",
              " 6,\n",
              " 6,\n",
              " 0,\n",
              " 6,\n",
              " 6,\n",
              " 5,\n",
              " 5,\n",
              " 0,\n",
              " 0,\n",
              " 6,\n",
              " 6,\n",
              " 0,\n",
              " 5,\n",
              " 0,\n",
              " 0,\n",
              " 0,\n",
              " 0,\n",
              " 0,\n",
              " 5,\n",
              " 5,\n",
              " 6,\n",
              " 5,\n",
              " 5,\n",
              " 0,\n",
              " 5,\n",
              " 5,\n",
              " 0,\n",
              " 5,\n",
              " 5,\n",
              " 6,\n",
              " 5,\n",
              " 5,\n",
              " 5,\n",
              " 6,\n",
              " 5,\n",
              " 5,\n",
              " 5,\n",
              " 0,\n",
              " 0,\n",
              " 5,\n",
              " 5,\n",
              " 5,\n",
              " 5,\n",
              " 6,\n",
              " 0,\n",
              " 0,\n",
              " 6,\n",
              " 6,\n",
              " 6,\n",
              " 6,\n",
              " 5,\n",
              " 5,\n",
              " 5,\n",
              " 6,\n",
              " 5,\n",
              " 0,\n",
              " 5,\n",
              " 5,\n",
              " 6,\n",
              " 5,\n",
              " 6,\n",
              " 6,\n",
              " 5,\n",
              " 6,\n",
              " 6,\n",
              " 5,\n",
              " 0,\n",
              " 5,\n",
              " 5,\n",
              " 5,\n",
              " 5,\n",
              " 5,\n",
              " 0,\n",
              " 0,\n",
              " 0,\n",
              " 6,\n",
              " 5,\n",
              " 6,\n",
              " 6,\n",
              " 5,\n",
              " 6,\n",
              " 0,\n",
              " 6,\n",
              " 6,\n",
              " 5,\n",
              " 6,\n",
              " 6,\n",
              " 5,\n",
              " 5,\n",
              " 5,\n",
              " 0]"
            ]
          },
          "execution_count": 129,
          "metadata": {},
          "output_type": "execute_result"
        }
      ],
      "source": [
        "outlier=[]\n",
        "for x in HR_data['TrainingTimesLastYear']:\n",
        "    if ((x>upper_limit) or (x<lower_limit)):\n",
        "        outlier.append(x)\n",
        "outlier"
      ]
    },
    {
      "cell_type": "code",
      "execution_count": null,
      "id": "dc4eaf19",
      "metadata": {
        "id": "dc4eaf19"
      },
      "outputs": [],
      "source": [
        "HR_data['TrainingTimesLastYear']=HR_data['TrainingTimesLastYear'].clip(lower=lower_limit,upper=upper_limit)"
      ]
    },
    {
      "cell_type": "code",
      "execution_count": null,
      "id": "c64a4160",
      "metadata": {
        "id": "c64a4160",
        "outputId": "0cb3b947-548f-4654-a16b-55ad172c39ad"
      },
      "outputs": [
        {
          "data": {
            "text/plain": [
              "[]"
            ]
          },
          "execution_count": 131,
          "metadata": {},
          "output_type": "execute_result"
        }
      ],
      "source": [
        "outlier=[]\n",
        "for x in HR_data['TrainingTimesLastYear']:\n",
        "    if ((x>upper_limit) or (x<lower_limit)):\n",
        "        outlier.append(x)\n",
        "outlier"
      ]
    },
    {
      "cell_type": "markdown",
      "id": "a257a147",
      "metadata": {
        "id": "a257a147"
      },
      "source": [
        "# (7)YearsAtCompany"
      ]
    },
    {
      "cell_type": "code",
      "execution_count": null,
      "id": "5495f214",
      "metadata": {
        "id": "5495f214"
      },
      "outputs": [],
      "source": [
        "q1=np.percentile(HR_data['YearsAtCompany'],25,method='midpoint')\n",
        "q2=np.percentile(HR_data['YearsAtCompany'],50,method='midpoint')\n",
        "q3=np.percentile(HR_data['YearsAtCompany'],75,method='midpoint')"
      ]
    },
    {
      "cell_type": "code",
      "execution_count": null,
      "id": "6bc052a3",
      "metadata": {
        "id": "6bc052a3",
        "outputId": "af96b0d1-68d3-436c-bfec-2ab9a0dacb4c"
      },
      "outputs": [
        {
          "data": {
            "text/plain": [
              "3.0"
            ]
          },
          "execution_count": 133,
          "metadata": {},
          "output_type": "execute_result"
        }
      ],
      "source": [
        "q1"
      ]
    },
    {
      "cell_type": "code",
      "execution_count": null,
      "id": "14d1ff1a",
      "metadata": {
        "id": "14d1ff1a",
        "outputId": "b1cf9c76-ef0c-4436-916c-46fb07a7384c"
      },
      "outputs": [
        {
          "data": {
            "text/plain": [
              "5.0"
            ]
          },
          "execution_count": 134,
          "metadata": {},
          "output_type": "execute_result"
        }
      ],
      "source": [
        "q2"
      ]
    },
    {
      "cell_type": "code",
      "execution_count": null,
      "id": "967ee610",
      "metadata": {
        "id": "967ee610",
        "outputId": "f91e0b2d-6e62-4ae2-bd2a-9cf63e5d21a2"
      },
      "outputs": [
        {
          "data": {
            "text/plain": [
              "9.0"
            ]
          },
          "execution_count": 135,
          "metadata": {},
          "output_type": "execute_result"
        }
      ],
      "source": [
        "q3"
      ]
    },
    {
      "cell_type": "code",
      "execution_count": null,
      "id": "8d0b8e48",
      "metadata": {
        "id": "8d0b8e48",
        "outputId": "3f9462af-2069-4dda-f52d-d5cc1c0ec0fd"
      },
      "outputs": [
        {
          "data": {
            "text/plain": [
              "6.0"
            ]
          },
          "execution_count": 136,
          "metadata": {},
          "output_type": "execute_result"
        }
      ],
      "source": [
        "#inter quartile range\n",
        "\n",
        "iqr=q3-q1\n",
        "iqr"
      ]
    },
    {
      "cell_type": "code",
      "execution_count": null,
      "id": "33479ac7",
      "metadata": {
        "id": "33479ac7",
        "outputId": "5622bd91-e3d3-4ec9-c00d-bf3537c8bf33"
      },
      "outputs": [
        {
          "data": {
            "text/plain": [
              "-6.0"
            ]
          },
          "execution_count": 137,
          "metadata": {},
          "output_type": "execute_result"
        }
      ],
      "source": [
        "lower_limit=q1-1.5*iqr\n",
        "lower_limit"
      ]
    },
    {
      "cell_type": "code",
      "execution_count": null,
      "id": "0e7835e2",
      "metadata": {
        "id": "0e7835e2",
        "outputId": "e126b983-4ac0-4924-e438-6c0135c2eef3"
      },
      "outputs": [
        {
          "data": {
            "text/plain": [
              "18.0"
            ]
          },
          "execution_count": 138,
          "metadata": {},
          "output_type": "execute_result"
        }
      ],
      "source": [
        "upper_limit=q3+1.5*iqr\n",
        "upper_limit"
      ]
    },
    {
      "cell_type": "code",
      "execution_count": null,
      "id": "8b34c336",
      "metadata": {
        "id": "8b34c336",
        "outputId": "0abcbcd2-d710-4a15-ea5b-4fc4b2c536cf"
      },
      "outputs": [
        {
          "data": {
            "text/plain": [
              "[25,\n",
              " 22,\n",
              " 22,\n",
              " 27,\n",
              " 21,\n",
              " 22,\n",
              " 37,\n",
              " 25,\n",
              " 20,\n",
              " 40,\n",
              " 20,\n",
              " 24,\n",
              " 20,\n",
              " 24,\n",
              " 33,\n",
              " 20,\n",
              " 19,\n",
              " 22,\n",
              " 33,\n",
              " 24,\n",
              " 19,\n",
              " 21,\n",
              " 20,\n",
              " 36,\n",
              " 20,\n",
              " 20,\n",
              " 22,\n",
              " 24,\n",
              " 21,\n",
              " 21,\n",
              " 25,\n",
              " 21,\n",
              " 29,\n",
              " 20,\n",
              " 27,\n",
              " 20,\n",
              " 31,\n",
              " 32,\n",
              " 20,\n",
              " 20,\n",
              " 21,\n",
              " 22,\n",
              " 22,\n",
              " 34,\n",
              " 24,\n",
              " 26,\n",
              " 31,\n",
              " 20,\n",
              " 31,\n",
              " 26,\n",
              " 19,\n",
              " 21,\n",
              " 21,\n",
              " 32,\n",
              " 21,\n",
              " 19,\n",
              " 20,\n",
              " 22,\n",
              " 20,\n",
              " 21,\n",
              " 26,\n",
              " 20,\n",
              " 22,\n",
              " 24,\n",
              " 33,\n",
              " 29,\n",
              " 25,\n",
              " 21,\n",
              " 19,\n",
              " 19,\n",
              " 20,\n",
              " 19,\n",
              " 33,\n",
              " 19,\n",
              " 19,\n",
              " 20,\n",
              " 20,\n",
              " 20,\n",
              " 20,\n",
              " 20,\n",
              " 32,\n",
              " 20,\n",
              " 21,\n",
              " 33,\n",
              " 36,\n",
              " 26,\n",
              " 30,\n",
              " 22,\n",
              " 23,\n",
              " 23,\n",
              " 21,\n",
              " 21,\n",
              " 22,\n",
              " 22,\n",
              " 19,\n",
              " 22,\n",
              " 19,\n",
              " 22,\n",
              " 20,\n",
              " 20,\n",
              " 20,\n",
              " 22,\n",
              " 20,\n",
              " 20]"
            ]
          },
          "execution_count": 139,
          "metadata": {},
          "output_type": "execute_result"
        }
      ],
      "source": [
        "outlier=[]\n",
        "for x in HR_data['YearsAtCompany']:\n",
        "    if ((x>upper_limit) or (x<lower_limit)):\n",
        "        outlier.append(x)\n",
        "outlier"
      ]
    },
    {
      "cell_type": "code",
      "execution_count": null,
      "id": "f82670af",
      "metadata": {
        "id": "f82670af"
      },
      "outputs": [],
      "source": [
        "HR_data['YearsAtCompany']=HR_data['YearsAtCompany'].clip(lower=lower_limit,upper=upper_limit)"
      ]
    },
    {
      "cell_type": "code",
      "execution_count": null,
      "id": "6b94ac68",
      "metadata": {
        "id": "6b94ac68",
        "outputId": "cf4847b6-3555-47ec-b220-60ec8730c7b8"
      },
      "outputs": [
        {
          "data": {
            "text/plain": [
              "[]"
            ]
          },
          "execution_count": 141,
          "metadata": {},
          "output_type": "execute_result"
        }
      ],
      "source": [
        "outlier=[]\n",
        "for x in HR_data['YearsAtCompany']:\n",
        "    if ((x>upper_limit) or (x<lower_limit)):\n",
        "        outlier.append(x)\n",
        "outlier"
      ]
    },
    {
      "cell_type": "markdown",
      "id": "8ae09cac",
      "metadata": {
        "id": "8ae09cac"
      },
      "source": [
        "# (8)YearsInCurrentRole"
      ]
    },
    {
      "cell_type": "code",
      "execution_count": null,
      "id": "fb3abf66",
      "metadata": {
        "id": "fb3abf66"
      },
      "outputs": [],
      "source": [
        "q1=np.percentile(HR_data['YearsInCurrentRole'],25,method='midpoint')\n",
        "q2=np.percentile(HR_data['YearsInCurrentRole'],50,method='midpoint')\n",
        "q3=np.percentile(HR_data['YearsInCurrentRole'],75,method='midpoint')"
      ]
    },
    {
      "cell_type": "code",
      "execution_count": null,
      "id": "50443a3e",
      "metadata": {
        "id": "50443a3e",
        "outputId": "0461fe80-b8b0-41ce-eb72-5ad27fffbce9"
      },
      "outputs": [
        {
          "data": {
            "text/plain": [
              "2.0"
            ]
          },
          "execution_count": 143,
          "metadata": {},
          "output_type": "execute_result"
        }
      ],
      "source": [
        "q1"
      ]
    },
    {
      "cell_type": "code",
      "execution_count": null,
      "id": "a7f3f970",
      "metadata": {
        "id": "a7f3f970",
        "outputId": "dab41d0e-00f1-4490-ee8c-3a3502e7e9c1"
      },
      "outputs": [
        {
          "data": {
            "text/plain": [
              "3.0"
            ]
          },
          "execution_count": 144,
          "metadata": {},
          "output_type": "execute_result"
        }
      ],
      "source": [
        "q2"
      ]
    },
    {
      "cell_type": "code",
      "execution_count": null,
      "id": "ab4e050c",
      "metadata": {
        "id": "ab4e050c",
        "outputId": "cb6160e0-c7f8-4e55-8a9e-30a9fffc0160"
      },
      "outputs": [
        {
          "data": {
            "text/plain": [
              "7.0"
            ]
          },
          "execution_count": 145,
          "metadata": {},
          "output_type": "execute_result"
        }
      ],
      "source": [
        "q3"
      ]
    },
    {
      "cell_type": "code",
      "execution_count": null,
      "id": "6a0b4a9c",
      "metadata": {
        "id": "6a0b4a9c",
        "outputId": "61a4e0ff-cab7-45a2-a78e-c178d2deb3ff"
      },
      "outputs": [
        {
          "data": {
            "text/plain": [
              "5.0"
            ]
          },
          "execution_count": 146,
          "metadata": {},
          "output_type": "execute_result"
        }
      ],
      "source": [
        "#inter quartile range\n",
        "\n",
        "iqr=q3-q1\n",
        "iqr"
      ]
    },
    {
      "cell_type": "code",
      "execution_count": null,
      "id": "75f40473",
      "metadata": {
        "id": "75f40473",
        "outputId": "6ae56f65-1ec0-4bb1-e016-611c94481943"
      },
      "outputs": [
        {
          "data": {
            "text/plain": [
              "-5.5"
            ]
          },
          "execution_count": 147,
          "metadata": {},
          "output_type": "execute_result"
        }
      ],
      "source": [
        "lower_limit=q1-1.5*iqr\n",
        "lower_limit"
      ]
    },
    {
      "cell_type": "code",
      "execution_count": null,
      "id": "58f41168",
      "metadata": {
        "id": "58f41168",
        "outputId": "746c793c-9e4c-4cbc-c085-11fc88a770fa"
      },
      "outputs": [
        {
          "data": {
            "text/plain": [
              "14.5"
            ]
          },
          "execution_count": 148,
          "metadata": {},
          "output_type": "execute_result"
        }
      ],
      "source": [
        "upper_limit=q3+1.5*iqr\n",
        "upper_limit"
      ]
    },
    {
      "cell_type": "code",
      "execution_count": null,
      "id": "ab0689ca",
      "metadata": {
        "id": "ab0689ca",
        "outputId": "97dfe250-1f9d-4226-e613-138b947731d2"
      },
      "outputs": [
        {
          "data": {
            "text/plain": [
              "[15,\n",
              " 16,\n",
              " 18,\n",
              " 15,\n",
              " 18,\n",
              " 17,\n",
              " 16,\n",
              " 15,\n",
              " 16,\n",
              " 15,\n",
              " 16,\n",
              " 16,\n",
              " 15,\n",
              " 16,\n",
              " 17,\n",
              " 15,\n",
              " 15,\n",
              " 15,\n",
              " 17,\n",
              " 17,\n",
              " 16]"
            ]
          },
          "execution_count": 149,
          "metadata": {},
          "output_type": "execute_result"
        }
      ],
      "source": [
        "outlier=[]\n",
        "for x in HR_data['YearsInCurrentRole']:\n",
        "    if ((x>upper_limit) or (x<lower_limit)):\n",
        "        outlier.append(x)\n",
        "outlier"
      ]
    },
    {
      "cell_type": "code",
      "execution_count": null,
      "id": "faed86ce",
      "metadata": {
        "id": "faed86ce"
      },
      "outputs": [],
      "source": [
        "HR_data['YearsInCurrentRole']=HR_data['YearsInCurrentRole'].clip(lower=lower_limit,upper=upper_limit)"
      ]
    },
    {
      "cell_type": "code",
      "execution_count": null,
      "id": "85f65d88",
      "metadata": {
        "id": "85f65d88",
        "outputId": "305cb508-a8d4-4cde-d871-8623b5444e95"
      },
      "outputs": [
        {
          "data": {
            "text/plain": [
              "[]"
            ]
          },
          "execution_count": 151,
          "metadata": {},
          "output_type": "execute_result"
        }
      ],
      "source": [
        "outlier=[]\n",
        "for x in HR_data['YearsInCurrentRole']:\n",
        "    if ((x>upper_limit) or (x<lower_limit)):\n",
        "        outlier.append(x)\n",
        "outlier"
      ]
    },
    {
      "cell_type": "markdown",
      "id": "e0ba2963",
      "metadata": {
        "id": "e0ba2963"
      },
      "source": [
        "# (9)YearsSinceLastPromotion"
      ]
    },
    {
      "cell_type": "code",
      "execution_count": null,
      "id": "2da3c185",
      "metadata": {
        "id": "2da3c185"
      },
      "outputs": [],
      "source": [
        "q1=np.percentile(HR_data['YearsSinceLastPromotion'],25,method='midpoint')\n",
        "q2=np.percentile(HR_data['YearsSinceLastPromotion'],50,method='midpoint')\n",
        "q3=np.percentile(HR_data['YearsSinceLastPromotion'],75,method='midpoint')"
      ]
    },
    {
      "cell_type": "code",
      "execution_count": null,
      "id": "80c65273",
      "metadata": {
        "id": "80c65273",
        "outputId": "d0b3ddc5-778c-4883-ce3a-6aa89dd1ac80"
      },
      "outputs": [
        {
          "data": {
            "text/plain": [
              "0.0"
            ]
          },
          "execution_count": 153,
          "metadata": {},
          "output_type": "execute_result"
        }
      ],
      "source": [
        "q1"
      ]
    },
    {
      "cell_type": "code",
      "execution_count": null,
      "id": "fce4f5e3",
      "metadata": {
        "id": "fce4f5e3",
        "outputId": "eacc975d-7b00-41dc-e103-c59e8cd9dbb6"
      },
      "outputs": [
        {
          "data": {
            "text/plain": [
              "1.0"
            ]
          },
          "execution_count": 154,
          "metadata": {},
          "output_type": "execute_result"
        }
      ],
      "source": [
        "q2"
      ]
    },
    {
      "cell_type": "code",
      "execution_count": null,
      "id": "015ce491",
      "metadata": {
        "id": "015ce491",
        "outputId": "ab8af719-6057-4890-a108-c99e7f7e3b8f"
      },
      "outputs": [
        {
          "data": {
            "text/plain": [
              "3.0"
            ]
          },
          "execution_count": 156,
          "metadata": {},
          "output_type": "execute_result"
        }
      ],
      "source": [
        "q3"
      ]
    },
    {
      "cell_type": "code",
      "execution_count": null,
      "id": "c1a88e57",
      "metadata": {
        "id": "c1a88e57",
        "outputId": "ff696a30-3b9b-410d-d97a-288627b188e7"
      },
      "outputs": [
        {
          "data": {
            "text/plain": [
              "3.0"
            ]
          },
          "execution_count": 157,
          "metadata": {},
          "output_type": "execute_result"
        }
      ],
      "source": [
        "#inter quartile range\n",
        "\n",
        "iqr=q3-q1\n",
        "iqr"
      ]
    },
    {
      "cell_type": "code",
      "execution_count": null,
      "id": "ea900b3f",
      "metadata": {
        "id": "ea900b3f",
        "outputId": "2ed329c8-09ec-4195-fec6-dd22a0e3dd0c"
      },
      "outputs": [
        {
          "data": {
            "text/plain": [
              "-4.5"
            ]
          },
          "execution_count": 158,
          "metadata": {},
          "output_type": "execute_result"
        }
      ],
      "source": [
        "lower_limit=q1-1.5*iqr\n",
        "lower_limit"
      ]
    },
    {
      "cell_type": "code",
      "execution_count": null,
      "id": "7b644cc0",
      "metadata": {
        "id": "7b644cc0",
        "outputId": "aebaa96a-fafd-45f3-dd27-c9d8fc7dd36b"
      },
      "outputs": [
        {
          "data": {
            "text/plain": [
              "7.5"
            ]
          },
          "execution_count": 159,
          "metadata": {},
          "output_type": "execute_result"
        }
      ],
      "source": [
        "upper_limit=q3+1.5*iqr\n",
        "upper_limit"
      ]
    },
    {
      "cell_type": "code",
      "execution_count": null,
      "id": "6a3ca734",
      "metadata": {
        "id": "6a3ca734",
        "outputId": "b411fc5d-3c85-40d5-8852-4a04fdd41508"
      },
      "outputs": [
        {
          "data": {
            "text/plain": [
              "[8,\n",
              " 15,\n",
              " 8,\n",
              " 8,\n",
              " 9,\n",
              " 13,\n",
              " 12,\n",
              " 10,\n",
              " 11,\n",
              " 9,\n",
              " 12,\n",
              " 15,\n",
              " 15,\n",
              " 15,\n",
              " 9,\n",
              " 11,\n",
              " 11,\n",
              " 9,\n",
              " 12,\n",
              " 11,\n",
              " 15,\n",
              " 11,\n",
              " 10,\n",
              " 9,\n",
              " 11,\n",
              " 9,\n",
              " 8,\n",
              " 11,\n",
              " 11,\n",
              " 8,\n",
              " 13,\n",
              " 9,\n",
              " 9,\n",
              " 12,\n",
              " 10,\n",
              " 11,\n",
              " 15,\n",
              " 13,\n",
              " 9,\n",
              " 11,\n",
              " 10,\n",
              " 8,\n",
              " 8,\n",
              " 11,\n",
              " 9,\n",
              " 11,\n",
              " 12,\n",
              " 11,\n",
              " 14,\n",
              " 13,\n",
              " 14,\n",
              " 8,\n",
              " 11,\n",
              " 15,\n",
              " 10,\n",
              " 11,\n",
              " 11,\n",
              " 15,\n",
              " 11,\n",
              " 13,\n",
              " 11,\n",
              " 13,\n",
              " 15,\n",
              " 8,\n",
              " 13,\n",
              " 15,\n",
              " 11,\n",
              " 14,\n",
              " 15,\n",
              " 15,\n",
              " 9,\n",
              " 11,\n",
              " 9,\n",
              " 8,\n",
              " 9,\n",
              " 15,\n",
              " 11,\n",
              " 12,\n",
              " 9,\n",
              " 8,\n",
              " 10,\n",
              " 14,\n",
              " 8,\n",
              " 13,\n",
              " 13,\n",
              " 12,\n",
              " 14,\n",
              " 8,\n",
              " 8,\n",
              " 8,\n",
              " 14,\n",
              " 14,\n",
              " 8,\n",
              " 12,\n",
              " 13,\n",
              " 14,\n",
              " 14,\n",
              " 12,\n",
              " 11,\n",
              " 8,\n",
              " 11,\n",
              " 9,\n",
              " 12,\n",
              " 8,\n",
              " 9,\n",
              " 11,\n",
              " 9]"
            ]
          },
          "execution_count": 160,
          "metadata": {},
          "output_type": "execute_result"
        }
      ],
      "source": [
        "outlier=[]\n",
        "for x in HR_data['YearsSinceLastPromotion']:\n",
        "    if ((x>upper_limit) or (x<lower_limit)):\n",
        "        outlier.append(x)\n",
        "outlier"
      ]
    },
    {
      "cell_type": "code",
      "execution_count": null,
      "id": "e4fe782d",
      "metadata": {
        "id": "e4fe782d"
      },
      "outputs": [],
      "source": [
        "HR_data['YearsSinceLastPromotion']=HR_data['YearsSinceLastPromotion'].clip(lower=lower_limit,upper=upper_limit)"
      ]
    },
    {
      "cell_type": "code",
      "execution_count": null,
      "id": "67d387b5",
      "metadata": {
        "id": "67d387b5",
        "outputId": "be0ef01e-2ff2-442c-b745-417d1798ac71"
      },
      "outputs": [
        {
          "data": {
            "text/plain": [
              "[]"
            ]
          },
          "execution_count": 162,
          "metadata": {},
          "output_type": "execute_result"
        }
      ],
      "source": [
        "outlier=[]\n",
        "for x in HR_data['YearsSinceLastPromotion']:\n",
        "    if ((x>upper_limit) or (x<lower_limit)):\n",
        "        outlier.append(x)\n",
        "outlier"
      ]
    },
    {
      "cell_type": "code",
      "execution_count": null,
      "id": "a742a15a",
      "metadata": {
        "id": "a742a15a"
      },
      "outputs": [],
      "source": [
        "(10)YearsWithCurrManager"
      ]
    },
    {
      "cell_type": "code",
      "execution_count": null,
      "id": "b560814d",
      "metadata": {
        "id": "b560814d"
      },
      "outputs": [],
      "source": [
        "q1=np.percentile(HR_data['YearsWithCurrManager'],25,method='midpoint')\n",
        "q2=np.percentile(HR_data['YearsWithCurrManager'],50,method='midpoint')\n",
        "q3=np.percentile(HR_data['YearsWithCurrManager'],75,method='midpoint')"
      ]
    },
    {
      "cell_type": "code",
      "execution_count": null,
      "id": "73134f21",
      "metadata": {
        "id": "73134f21",
        "outputId": "4d4aef6a-65a6-4443-c1db-72e7ce0fc248"
      },
      "outputs": [
        {
          "data": {
            "text/plain": [
              "2.0"
            ]
          },
          "execution_count": 164,
          "metadata": {},
          "output_type": "execute_result"
        }
      ],
      "source": [
        "q1"
      ]
    },
    {
      "cell_type": "code",
      "execution_count": null,
      "id": "b41fbb99",
      "metadata": {
        "id": "b41fbb99",
        "outputId": "b4ba4d24-37a8-49c0-a70d-d17c23ab6073"
      },
      "outputs": [
        {
          "data": {
            "text/plain": [
              "3.0"
            ]
          },
          "execution_count": 165,
          "metadata": {},
          "output_type": "execute_result"
        }
      ],
      "source": [
        "q2"
      ]
    },
    {
      "cell_type": "code",
      "execution_count": null,
      "id": "0dd7e0af",
      "metadata": {
        "id": "0dd7e0af",
        "outputId": "5e0b6ea9-256c-4624-d1fd-e574ea8f6e5f"
      },
      "outputs": [
        {
          "data": {
            "text/plain": [
              "7.0"
            ]
          },
          "execution_count": 166,
          "metadata": {},
          "output_type": "execute_result"
        }
      ],
      "source": [
        "q3"
      ]
    },
    {
      "cell_type": "code",
      "execution_count": null,
      "id": "a46f6b9c",
      "metadata": {
        "id": "a46f6b9c",
        "outputId": "aaf5a195-d240-40c8-d57f-0ed5f02a0b0f"
      },
      "outputs": [
        {
          "data": {
            "text/plain": [
              "5.0"
            ]
          },
          "execution_count": 167,
          "metadata": {},
          "output_type": "execute_result"
        }
      ],
      "source": [
        "#inter quartile range\n",
        "\n",
        "iqr=q3-q1\n",
        "iqr"
      ]
    },
    {
      "cell_type": "code",
      "execution_count": null,
      "id": "2f704acb",
      "metadata": {
        "id": "2f704acb",
        "outputId": "5c5f77f0-2755-40f9-fa6e-01977006dab8"
      },
      "outputs": [
        {
          "data": {
            "text/plain": [
              "-5.5"
            ]
          },
          "execution_count": 168,
          "metadata": {},
          "output_type": "execute_result"
        }
      ],
      "source": [
        "lower_limit=q1-1.5*iqr\n",
        "lower_limit"
      ]
    },
    {
      "cell_type": "code",
      "execution_count": null,
      "id": "d86d5d6f",
      "metadata": {
        "id": "d86d5d6f",
        "outputId": "1e780848-5055-46f1-b24f-adbac4f024ff"
      },
      "outputs": [
        {
          "data": {
            "text/plain": [
              "14.5"
            ]
          },
          "execution_count": 169,
          "metadata": {},
          "output_type": "execute_result"
        }
      ],
      "source": [
        "upper_limit=q3+1.5*iqr\n",
        "upper_limit"
      ]
    },
    {
      "cell_type": "code",
      "execution_count": null,
      "id": "847d516c",
      "metadata": {
        "id": "847d516c",
        "outputId": "0b09f5d6-5e67-4242-e953-61b075439927"
      },
      "outputs": [
        {
          "data": {
            "text/plain": [
              "[17, 15, 15, 15, 15, 17, 16, 17, 15, 17, 17, 17, 17, 16]"
            ]
          },
          "execution_count": 170,
          "metadata": {},
          "output_type": "execute_result"
        }
      ],
      "source": [
        "outlier=[]\n",
        "for x in HR_data['YearsWithCurrManager']:\n",
        "    if ((x>upper_limit) or (x<lower_limit)):\n",
        "        outlier.append(x)\n",
        "outlier"
      ]
    },
    {
      "cell_type": "code",
      "execution_count": null,
      "id": "8e556973",
      "metadata": {
        "id": "8e556973"
      },
      "outputs": [],
      "source": [
        "HR_data['YearsWithCurrManager']=HR_data['YearsWithCurrManager'].clip(lower=lower_limit,upper=upper_limit)"
      ]
    },
    {
      "cell_type": "code",
      "execution_count": null,
      "id": "49f6460c",
      "metadata": {
        "id": "49f6460c",
        "outputId": "719757b2-a431-42a5-c891-dd6124095502"
      },
      "outputs": [
        {
          "data": {
            "text/plain": [
              "[]"
            ]
          },
          "execution_count": 172,
          "metadata": {},
          "output_type": "execute_result"
        }
      ],
      "source": [
        "outlier=[]\n",
        "for x in HR_data['YearsWithCurrManager']:\n",
        "    if ((x>upper_limit) or (x<lower_limit)):\n",
        "        outlier.append(x)\n",
        "outlier"
      ]
    },
    {
      "cell_type": "markdown",
      "id": "cd232847",
      "metadata": {
        "id": "cd232847"
      },
      "source": [
        "# after outlier correction"
      ]
    },
    {
      "cell_type": "code",
      "execution_count": null,
      "id": "3237878c",
      "metadata": {
        "id": "3237878c",
        "outputId": "5708bf54-4889-469b-b80b-c81c08b002ba"
      },
      "outputs": [
        {
          "name": "stderr",
          "output_type": "stream",
          "text": [
            "C:\\Users\\ambad\\AppData\\Local\\Temp\\ipykernel_10360\\1912599173.py:2: RuntimeWarning: More than 20 figures have been opened. Figures created through the pyplot interface (`matplotlib.pyplot.figure`) are retained until explicitly closed and may consume too much memory. (To control this warning, see the rcParam `figure.max_open_warning`). Consider using `matplotlib.pyplot.close()`.\n",
            "  plt.figure()\n"
          ]
        },
        {
          "data": {
            "image/png": "[encoded data removed]",
            "text/plain": [
              "<Figure size 640x480 with 1 Axes>"
            ]
          },
          "metadata": {},
          "output_type": "display_data"
        },
        {
          "data": {
            "image/png": "[encoded data removed]",
            "text/plain": [
              "<Figure size 640x480 with 1 Axes>"
            ]
          },
          "metadata": {},
          "output_type": "display_data"
        },
        {
          "data": {
            "image/png": "[encoded data removed]",
            "text/plain": [
              "<Figure size 640x480 with 1 Axes>"
            ]
          },
          "metadata": {},
          "output_type": "display_data"
        },
        {
          "data": {
            "image/png": "[encoded data removed]",
            "text/plain": [
              "<Figure size 640x480 with 1 Axes>"
            ]
          },
          "metadata": {},
          "output_type": "display_data"
        },
        {
          "data": {
            "image/png": "[encoded data removed]",
            "text/plain": [
              "<Figure size 640x480 with 1 Axes>"
            ]
          },
          "metadata": {},
          "output_type": "display_data"
        },
        {
          "data": {
            "image/png": "[encoded data removed]",
            "text/plain": [
              "<Figure size 640x480 with 1 Axes>"
            ]
          },
          "metadata": {},
          "output_type": "display_data"
        },
        {
          "data": {
            "image/png": "[encoded data removed]",
            "text/plain": [
              "<Figure size 640x480 with 1 Axes>"
            ]
          },
          "metadata": {},
          "output_type": "display_data"
        },
        {
          "data": {
            "image/png": "[encoded data removed]",
            "text/plain": [
              "<Figure size 640x480 with 1 Axes>"
            ]
          },
          "metadata": {},
          "output_type": "display_data"
        },
        {
          "data": {
            "image/png": "[encoded data removed]",
            "text/plain": [
              "<Figure size 640x480 with 1 Axes>"
            ]
          },
          "metadata": {},
          "output_type": "display_data"
        },
        {
          "data": {
            "image/png": "[encoded data removed]",
            "text/plain": [
              "<Figure size 640x480 with 1 Axes>"
            ]
          },
          "metadata": {},
          "output_type": "display_data"
        },
        {
          "data": {
            "image/png": "[encoded data removed]",
            "text/plain": [
              "<Figure size 640x480 with 1 Axes>"
            ]
          },
          "metadata": {},
          "output_type": "display_data"
        },
        {
          "data": {
            "image/png": "[encoded data removed]",
            "text/plain": [
              "<Figure size 640x480 with 1 Axes>"
            ]
          },
          "metadata": {},
          "output_type": "display_data"
        },
        {
          "data": {
            "image/png": "[encoded data removed]",
            "text/plain": [
              "<Figure size 640x480 with 1 Axes>"
            ]
          },
          "metadata": {},
          "output_type": "display_data"
        },
        {
          "data": {
            "image/png": "[encoded data removed]",
            "text/plain": [
              "<Figure size 640x480 with 1 Axes>"
            ]
          },
          "metadata": {},
          "output_type": "display_data"
        },
        {
          "data": {
            "image/png": "[encoded data removed]",
            "text/plain": [
              "<Figure size 640x480 with 1 Axes>"
            ]
          },
          "metadata": {},
          "output_type": "display_data"
        },
        {
          "data": {
            "image/png": "[encoded data removed]",
            "text/plain": [
              "<Figure size 640x480 with 1 Axes>"
            ]
          },
          "metadata": {},
          "output_type": "display_data"
        },
        {
          "data": {
            "image/png": "[encoded data removed]",
            "text/plain": [
              "<Figure size 640x480 with 1 Axes>"
            ]
          },
          "metadata": {},
          "output_type": "display_data"
        },
        {
          "data": {
            "image/png": "[encoded data removed]",
            "text/plain": [
              "<Figure size 640x480 with 1 Axes>"
            ]
          },
          "metadata": {},
          "output_type": "display_data"
        },
        {
          "data": {
            "image/png": "[encoded data removed]",
            "text/plain": [
              "<Figure size 640x480 with 1 Axes>"
            ]
          },
          "metadata": {},
          "output_type": "display_data"
        },
        {
          "data": {
            "image/png": "[encoded data removed]",
            "text/plain": [
              "<Figure size 640x480 with 1 Axes>"
            ]
          },
          "metadata": {},
          "output_type": "display_data"
        },
        {
          "data": {
            "image/png": "[encoded data removed]",
            "text/plain": [
              "<Figure size 640x480 with 1 Axes>"
            ]
          },
          "metadata": {},
          "output_type": "display_data"
        },
        {
          "data": {
            "image/png": "[encoded data removed]",
            "text/plain": [
              "<Figure size 640x480 with 1 Axes>"
            ]
          },
          "metadata": {},
          "output_type": "display_data"
        },
        {
          "data": {
            "image/png": "[encoded data removed]",
            "text/plain": [
              "<Figure size 640x480 with 1 Axes>"
            ]
          },
          "metadata": {},
          "output_type": "display_data"
        },
        {
          "data": {
            "image/png": "[encoded data removed]",
            "text/plain": [
              "<Figure size 640x480 with 1 Axes>"
            ]
          },
          "metadata": {},
          "output_type": "display_data"
        },
        {
          "data": {
            "image/png": "[encoded data removed]",
            "text/plain": [
              "<Figure size 640x480 with 1 Axes>"
            ]
          },
          "metadata": {},
          "output_type": "display_data"
        },
        {
          "data": {
            "image/png": "[encoded data removed]",
            "text/plain": [
              "<Figure size 640x480 with 1 Axes>"
            ]
          },
          "metadata": {},
          "output_type": "display_data"
        }
      ],
      "source": [
        "for i in num_cols:\n",
        "    plt.figure()\n",
        "    sns.boxplot(HR_data[i])\n",
        "    plt.title(i)"
      ]
    },
    {
      "cell_type": "code",
      "execution_count": null,
      "id": "00114475",
      "metadata": {
        "id": "00114475"
      },
      "outputs": [],
      "source": []
    },
    {
      "cell_type": "code",
      "execution_count": null,
      "id": "5bb116fb",
      "metadata": {
        "id": "5bb116fb"
      },
      "outputs": [],
      "source": []
    }
  ],
  "metadata": {
    "kernelspec": {
      "display_name": "Python 3 (ipykernel)",
      "language": "python",
      "name": "python3"
    },
    "language_info": {
      "codemirror_mode": {
        "name": "ipython",
        "version": 3
      },
      "file_extension": ".py",
      "mimetype": "text/x-python",
      "name": "python",
      "nbconvert_exporter": "python",
      "pygments_lexer": "ipython3",
      "version": "3.11.5"
    },
    "colab": {
      "provenance": []
    }
  },
  "nbformat": 4,
  "nbformat_minor": 5
}